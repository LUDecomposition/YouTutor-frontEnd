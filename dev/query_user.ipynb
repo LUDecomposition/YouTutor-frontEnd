{
 "cells": [
  {
   "cell_type": "code",
   "execution_count": 1,
   "metadata": {
    "ExecuteTime": {
     "end_time": "2021-04-09T06:41:54.318778Z",
     "start_time": "2021-04-09T06:41:54.191197Z"
    }
   },
   "outputs": [],
   "source": [
    "import boto3\n",
    "dynamodb = boto3.resource('dynamodb')\n",
    "table = dynamodb.Table('user-profile')"
   ]
  },
  {
   "cell_type": "code",
   "execution_count": 13,
   "metadata": {
    "ExecuteTime": {
     "end_time": "2021-04-09T06:48:17.766755Z",
     "start_time": "2021-04-09T06:48:17.764457Z"
    }
   },
   "outputs": [],
   "source": [
    "from boto3.dynamodb.conditions import Key, Attr, And, Not"
   ]
  },
  {
   "cell_type": "code",
   "execution_count": 8,
   "metadata": {
    "ExecuteTime": {
     "end_time": "2021-04-09T06:45:48.192335Z",
     "start_time": "2021-04-09T06:45:48.190203Z"
    }
   },
   "outputs": [],
   "source": [
    "user_id = 'sy2938@columbia.edu'"
   ]
  },
  {
   "cell_type": "code",
   "execution_count": 17,
   "metadata": {
    "ExecuteTime": {
     "end_time": "2021-04-09T06:49:06.400894Z",
     "start_time": "2021-04-09T06:49:06.292653Z"
    },
    "scrolled": false
   },
   "outputs": [
    {
     "data": {
      "text/plain": [
       "{'Items': [{'user_id': 'felicia31@yahoo.com',\n",
       "   'school': 'Simon Fraser University',\n",
       "   'last_name': 'Nauru',\n",
       "   'degree': 'B.A',\n",
       "   'first_name': 'Laura',\n",
       "   'major': 'Medical Assisting Services',\n",
       "   'tutor': True,\n",
       "   'introduction': 'Hello, I am Laura, a B.A student major in Medical Assisting Services from Simon Fraser University    ',\n",
       "   'picture': None,\n",
       "   'gender': 'F',\n",
       "   'tags': [],\n",
       "   'availability': []},\n",
       "  {'user_id': 'monica27@mitchell.org',\n",
       "   'school': 'University of Waterloo',\n",
       "   'last_name': 'Tsonga',\n",
       "   'degree': 'M.A',\n",
       "   'first_name': 'Antonio',\n",
       "   'major': 'Clinical Psychology',\n",
       "   'tutor': True,\n",
       "   'introduction': 'Hello, I am Antonio, a M.A student major in Clinical Psychology from University of Waterloo    ',\n",
       "   'picture': 'https://content.fakeface.rest/male_26_b8f42f1a61a8f7b7c1d50695e1f2d95dcd396404.jpg',\n",
       "   'gender': 'M',\n",
       "   'tags': [],\n",
       "   'availability': ['16:00-19:00,Saturday',\n",
       "    '8:00-12:00,Thursday',\n",
       "    '9:00-12:00,Monday',\n",
       "    '16:00-18:00,Sunday',\n",
       "    '12:00-15:00,Friday']},\n",
       "  {'user_id': 'moralesjeremy@brown-herrera.biz',\n",
       "   'school': 'University of Michigan',\n",
       "   'last_name': 'Albanian',\n",
       "   'degree': 'B.S',\n",
       "   'first_name': 'Alec',\n",
       "   'major': 'Molecular Biology',\n",
       "   'tutor': True,\n",
       "   'introduction': 'Hello, I am Alec, a B.S student major in Molecular Biology from University of Michigan    ',\n",
       "   'picture': 'https://content.fakeface.rest/male_28_52e7d9909fd0393f0a116cd60491a51447ca9f65.jpg',\n",
       "   'gender': 'M',\n",
       "   'tags': [],\n",
       "   'availability': ['8:00-18:00,Saturday']},\n",
       "  {'user_id': 'edwardmartin@yahoo.com',\n",
       "   'school': 'Carnegie Mellon University',\n",
       "   'last_name': 'Chuvash',\n",
       "   'degree': 'M.E',\n",
       "   'first_name': 'Patrick',\n",
       "   'major': 'Social Psychology',\n",
       "   'tutor': True,\n",
       "   'introduction': 'Hello, I am Patrick, a M.E student major in Social Psychology from Carnegie Mellon University    ',\n",
       "   'picture': 'https://content.fakeface.rest/male_20_ff0224c6e3db00119d0e6f9419c681de81c74663.jpg',\n",
       "   'gender': 'M',\n",
       "   'tags': ['Social Psychology'],\n",
       "   'availability': ['12:00-19:00,Saturday',\n",
       "    '10:00-15:00,Sunday',\n",
       "    '18:00-19:00,Sunday',\n",
       "    '9:00-13:00,Tuesday']},\n",
       "  {'user_id': 'kelly92@gmail.com',\n",
       "   'school': 'University of Toronto',\n",
       "   'last_name': 'Malagasy',\n",
       "   'degree': 'PhD',\n",
       "   'first_name': 'Luis',\n",
       "   'major': 'Mechanical Engineering Related Technologies',\n",
       "   'tutor': True,\n",
       "   'introduction': 'Hello, I am Luis, a PhD student major in Mechanical Engineering Related Technologies from University of Toronto    ',\n",
       "   'picture': None,\n",
       "   'gender': 'M',\n",
       "   'tags': [],\n",
       "   'availability': []}],\n",
       " 'Count': 5,\n",
       " 'ScannedCount': 10,\n",
       " 'LastEvaluatedKey': {'user_id': 'kelly92@gmail.com'},\n",
       " 'ResponseMetadata': {'RequestId': 'VC19QE4CTK38BGBH41FDA3AP2NVV4KQNSO5AEMVJF66Q9ASUAAJG',\n",
       "  'HTTPStatusCode': 200,\n",
       "  'HTTPHeaders': {'server': 'Server',\n",
       "   'date': 'Fri, 09 Apr 2021 06:49:06 GMT',\n",
       "   'content-type': 'application/x-amz-json-1.0',\n",
       "   'content-length': '2774',\n",
       "   'connection': 'keep-alive',\n",
       "   'x-amzn-requestid': 'VC19QE4CTK38BGBH41FDA3AP2NVV4KQNSO5AEMVJF66Q9ASUAAJG',\n",
       "   'x-amz-crc32': '3192316911'},\n",
       "  'RetryAttempts': 0}}"
      ]
     },
     "execution_count": 17,
     "metadata": {},
     "output_type": "execute_result"
    }
   ],
   "source": [
    "table.scan(\n",
    "    Limit=10,\n",
    "    FilterExpression=And(Attr('tutor').eq(True), Not(Key('user_id').eq(user_id)))\n",
    ")"
   ]
  },
  {
   "cell_type": "code",
   "execution_count": 16,
   "metadata": {
    "ExecuteTime": {
     "end_time": "2021-04-09T06:49:02.844683Z",
     "start_time": "2021-04-09T06:49:02.840666Z"
    }
   },
   "outputs": [
    {
     "data": {
      "text/plain": [
       "<boto3.dynamodb.conditions.And at 0x7f92e07ca1f0>"
      ]
     },
     "execution_count": 16,
     "metadata": {},
     "output_type": "execute_result"
    }
   ],
   "source": []
  },
  {
   "cell_type": "code",
   "execution_count": null,
   "metadata": {},
   "outputs": [],
   "source": []
  }
 ],
 "metadata": {
  "kernelspec": {
   "display_name": "Python [conda env:scipy-ml]",
   "language": "python",
   "name": "conda-env-scipy-ml-py"
  },
  "language_info": {
   "codemirror_mode": {
    "name": "ipython",
    "version": 3
   },
   "file_extension": ".py",
   "mimetype": "text/x-python",
   "name": "python",
   "nbconvert_exporter": "python",
   "pygments_lexer": "ipython3",
   "version": "3.8.5"
  },
  "toc": {
   "base_numbering": 1,
   "nav_menu": {},
   "number_sections": true,
   "sideBar": true,
   "skip_h1_title": false,
   "title_cell": "Table of Contents",
   "title_sidebar": "Contents",
   "toc_cell": false,
   "toc_position": {},
   "toc_section_display": true,
   "toc_window_display": false
  }
 },
 "nbformat": 4,
 "nbformat_minor": 4
}
