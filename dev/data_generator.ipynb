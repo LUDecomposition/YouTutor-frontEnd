{
 "cells": [
  {
   "cell_type": "code",
   "execution_count": 1,
   "metadata": {
    "ExecuteTime": {
     "end_time": "2021-04-03T21:29:58.502849Z",
     "start_time": "2021-04-03T21:29:58.365022Z"
    }
   },
   "outputs": [],
   "source": [
    "from faker import Faker\n",
    "fake = Faker()"
   ]
  },
  {
   "cell_type": "code",
   "execution_count": 3,
   "metadata": {
    "ExecuteTime": {
     "end_time": "2021-04-02T20:33:02.487155Z",
     "start_time": "2021-04-02T20:33:02.478146Z"
    }
   },
   "outputs": [
    {
     "data": {
      "text/plain": [
       "<faker.proxy.Faker at 0x7fece83a89d0>"
      ]
     },
     "execution_count": 3,
     "metadata": {},
     "output_type": "execute_result"
    }
   ],
   "source": [
    "fake"
   ]
  },
  {
   "cell_type": "code",
   "execution_count": 33,
   "metadata": {
    "ExecuteTime": {
     "end_time": "2021-04-02T20:49:32.453816Z",
     "start_time": "2021-04-02T20:49:32.450137Z"
    }
   },
   "outputs": [
    {
     "data": {
      "text/plain": [
       "'Jackson'"
      ]
     },
     "execution_count": 33,
     "metadata": {},
     "output_type": "execute_result"
    }
   ],
   "source": [
    "fake.last_name()"
   ]
  },
  {
   "cell_type": "code",
   "execution_count": 6,
   "metadata": {
    "ExecuteTime": {
     "end_time": "2021-04-02T20:41:04.036241Z",
     "start_time": "2021-04-02T20:41:04.032835Z"
    }
   },
   "outputs": [
    {
     "data": {
      "text/plain": [
       "'Discuss military five fire speak yes everything alone. Treatment mouth anything ok job under arrive. Medical return why around physical feel senior.'"
      ]
     },
     "execution_count": 6,
     "metadata": {},
     "output_type": "execute_result"
    }
   ],
   "source": [
    "fake.text()"
   ]
  },
  {
   "cell_type": "code",
   "execution_count": 10,
   "metadata": {
    "ExecuteTime": {
     "end_time": "2021-04-02T20:42:01.881954Z",
     "start_time": "2021-04-02T20:42:01.878905Z"
    }
   },
   "outputs": [
    {
     "data": {
      "text/plain": [
       "'Wednesday'"
      ]
     },
     "execution_count": 10,
     "metadata": {},
     "output_type": "execute_result"
    }
   ],
   "source": [
    "fake.day_of_week()"
   ]
  },
  {
   "cell_type": "code",
   "execution_count": 47,
   "metadata": {
    "ExecuteTime": {
     "end_time": "2021-04-02T20:55:50.396815Z",
     "start_time": "2021-04-02T20:55:50.394533Z"
    }
   },
   "outputs": [],
   "source": [
    "hours = range(8, 21, 1)"
   ]
  },
  {
   "cell_type": "code",
   "execution_count": 65,
   "metadata": {
    "ExecuteTime": {
     "end_time": "2021-04-02T21:02:00.538189Z",
     "start_time": "2021-04-02T21:02:00.535880Z"
    }
   },
   "outputs": [],
   "source": [
    "time_stamp = sorted(random.choices(hours, k=2))"
   ]
  },
  {
   "cell_type": "code",
   "execution_count": 66,
   "metadata": {
    "ExecuteTime": {
     "end_time": "2021-04-02T21:02:04.428869Z",
     "start_time": "2021-04-02T21:02:04.426481Z"
    }
   },
   "outputs": [],
   "source": [
    "time_stamp = '-'.join([str(i) for i in time_stamp])"
   ]
  },
  {
   "cell_type": "code",
   "execution_count": 67,
   "metadata": {
    "ExecuteTime": {
     "end_time": "2021-04-02T21:02:07.264829Z",
     "start_time": "2021-04-02T21:02:07.261920Z"
    }
   },
   "outputs": [
    {
     "data": {
      "text/plain": [
       "'19-20'"
      ]
     },
     "execution_count": 67,
     "metadata": {},
     "output_type": "execute_result"
    }
   ],
   "source": [
    "time_stamp"
   ]
  },
  {
   "cell_type": "code",
   "execution_count": 46,
   "metadata": {
    "ExecuteTime": {
     "end_time": "2021-04-02T20:55:26.569722Z",
     "start_time": "2021-04-02T20:55:26.566474Z"
    }
   },
   "outputs": [
    {
     "data": {
      "text/plain": [
       "'Wednesday'"
      ]
     },
     "execution_count": 46,
     "metadata": {},
     "output_type": "execute_result"
    }
   ],
   "source": [
    "fake.day_of_week()"
   ]
  },
  {
   "cell_type": "code",
   "execution_count": 21,
   "metadata": {
    "ExecuteTime": {
     "end_time": "2021-04-02T20:42:44.268958Z",
     "start_time": "2021-04-02T20:42:44.265644Z"
    }
   },
   "outputs": [
    {
     "data": {
      "text/plain": [
       "'+1-939-676-8482'"
      ]
     },
     "execution_count": 21,
     "metadata": {},
     "output_type": "execute_result"
    }
   ],
   "source": [
    "fake.phone_number()"
   ]
  },
  {
   "cell_type": "code",
   "execution_count": 23,
   "metadata": {
    "ExecuteTime": {
     "end_time": "2021-04-02T20:42:51.896376Z",
     "start_time": "2021-04-02T20:42:51.894138Z"
    }
   },
   "outputs": [],
   "source": [
    "import random"
   ]
  },
  {
   "cell_type": "code",
   "execution_count": 31,
   "metadata": {
    "ExecuteTime": {
     "end_time": "2021-04-02T20:45:47.939531Z",
     "start_time": "2021-04-02T20:45:47.936902Z"
    }
   },
   "outputs": [],
   "source": [
    "phone = str(random.randint(1e9, 1e10-1))\n",
    "phone = f'({phone[:3]})-{phone[3:6]}-{phone[6:]}'"
   ]
  },
  {
   "cell_type": "code",
   "execution_count": 32,
   "metadata": {
    "ExecuteTime": {
     "end_time": "2021-04-02T20:45:50.790626Z",
     "start_time": "2021-04-02T20:45:50.787432Z"
    }
   },
   "outputs": [
    {
     "data": {
      "text/plain": [
       "'(186)-075-0567'"
      ]
     },
     "execution_count": 32,
     "metadata": {},
     "output_type": "execute_result"
    }
   ],
   "source": [
    "phone"
   ]
  },
  {
   "cell_type": "code",
   "execution_count": 36,
   "metadata": {
    "ExecuteTime": {
     "end_time": "2021-04-02T20:50:18.985545Z",
     "start_time": "2021-04-02T20:50:18.979184Z"
    }
   },
   "outputs": [
    {
     "ename": "AttributeError",
     "evalue": "'Generator' object has no attribute 'jpeg'",
     "output_type": "error",
     "traceback": [
      "\u001b[0;31m---------------------------------------------------------------------------\u001b[0m",
      "\u001b[0;31mAttributeError\u001b[0m                            Traceback (most recent call last)",
      "\u001b[0;32m<ipython-input-36-f0ed07727bb1>\u001b[0m in \u001b[0;36m<module>\u001b[0;34m\u001b[0m\n\u001b[0;32m----> 1\u001b[0;31m \u001b[0mfake\u001b[0m\u001b[0;34m.\u001b[0m\u001b[0mjpeg\u001b[0m\u001b[0;34m(\u001b[0m\u001b[0;34m)\u001b[0m\u001b[0;34m\u001b[0m\u001b[0;34m\u001b[0m\u001b[0m\n\u001b[0m",
      "\u001b[0;32m~/opt/anaconda3/envs/scipy-ml/lib/python3.8/site-packages/faker/proxy.py\u001b[0m in \u001b[0;36m__getattr__\u001b[0;34m(self, attr)\u001b[0m\n\u001b[1;32m    103\u001b[0m \u001b[0;34m\u001b[0m\u001b[0m\n\u001b[1;32m    104\u001b[0m         \u001b[0;32mif\u001b[0m \u001b[0mlen\u001b[0m\u001b[0;34m(\u001b[0m\u001b[0mself\u001b[0m\u001b[0;34m.\u001b[0m\u001b[0m_factories\u001b[0m\u001b[0;34m)\u001b[0m \u001b[0;34m==\u001b[0m \u001b[0;36m1\u001b[0m\u001b[0;34m:\u001b[0m\u001b[0;34m\u001b[0m\u001b[0;34m\u001b[0m\u001b[0m\n\u001b[0;32m--> 105\u001b[0;31m             \u001b[0;32mreturn\u001b[0m \u001b[0mgetattr\u001b[0m\u001b[0;34m(\u001b[0m\u001b[0mself\u001b[0m\u001b[0;34m.\u001b[0m\u001b[0m_factories\u001b[0m\u001b[0;34m[\u001b[0m\u001b[0;36m0\u001b[0m\u001b[0;34m]\u001b[0m\u001b[0;34m,\u001b[0m \u001b[0mattr\u001b[0m\u001b[0;34m)\u001b[0m\u001b[0;34m\u001b[0m\u001b[0;34m\u001b[0m\u001b[0m\n\u001b[0m\u001b[1;32m    106\u001b[0m         \u001b[0;32melif\u001b[0m \u001b[0mattr\u001b[0m \u001b[0;32min\u001b[0m \u001b[0mself\u001b[0m\u001b[0;34m.\u001b[0m\u001b[0mgenerator_attrs\u001b[0m\u001b[0;34m:\u001b[0m\u001b[0;34m\u001b[0m\u001b[0;34m\u001b[0m\u001b[0m\n\u001b[1;32m    107\u001b[0m             \u001b[0mmsg\u001b[0m \u001b[0;34m=\u001b[0m \u001b[0;34m'Proxying calls to `%s` is not implemented in multiple locale mode.'\u001b[0m \u001b[0;34m%\u001b[0m \u001b[0mattr\u001b[0m\u001b[0;34m\u001b[0m\u001b[0;34m\u001b[0m\u001b[0m\n",
      "\u001b[0;31mAttributeError\u001b[0m: 'Generator' object has no attribute 'jpeg'"
     ]
    }
   ],
   "source": [
    "fake.jpeg()"
   ]
  },
  {
   "cell_type": "code",
   "execution_count": 39,
   "metadata": {
    "ExecuteTime": {
     "end_time": "2021-04-02T20:53:20.890899Z",
     "start_time": "2021-04-02T20:53:20.885359Z"
    }
   },
   "outputs": [
    {
     "ename": "TypeError",
     "evalue": "choice() takes 2 positional arguments but 3 were given",
     "output_type": "error",
     "traceback": [
      "\u001b[0;31m---------------------------------------------------------------------------\u001b[0m",
      "\u001b[0;31mTypeError\u001b[0m                                 Traceback (most recent call last)",
      "\u001b[0;32m<ipython-input-39-8984c29ce01f>\u001b[0m in \u001b[0;36m<module>\u001b[0;34m\u001b[0m\n\u001b[0;32m----> 1\u001b[0;31m \u001b[0mrandom\u001b[0m\u001b[0;34m.\u001b[0m\u001b[0mchoice\u001b[0m\u001b[0;34m(\u001b[0m\u001b[0mrange\u001b[0m\u001b[0;34m(\u001b[0m\u001b[0;36m100\u001b[0m\u001b[0;34m)\u001b[0m\u001b[0;34m,\u001b[0m \u001b[0;36m3\u001b[0m\u001b[0;34m)\u001b[0m\u001b[0;34m\u001b[0m\u001b[0;34m\u001b[0m\u001b[0m\n\u001b[0m",
      "\u001b[0;31mTypeError\u001b[0m: choice() takes 2 positional arguments but 3 were given"
     ]
    }
   ],
   "source": [
    "random.choice(range(100), 3)"
   ]
  },
  {
   "cell_type": "code",
   "execution_count": 44,
   "metadata": {
    "ExecuteTime": {
     "end_time": "2021-04-02T20:54:29.242963Z",
     "start_time": "2021-04-02T20:54:29.239218Z"
    }
   },
   "outputs": [
    {
     "data": {
      "text/plain": [
       "[95, 54]"
      ]
     },
     "execution_count": 44,
     "metadata": {},
     "output_type": "execute_result"
    }
   ],
   "source": [
    "random.choices(range(100), k=random.randint(0,5))"
   ]
  },
  {
   "cell_type": "code",
   "execution_count": 68,
   "metadata": {
    "ExecuteTime": {
     "end_time": "2021-04-02T21:06:46.536201Z",
     "start_time": "2021-04-02T21:06:46.456582Z"
    }
   },
   "outputs": [],
   "source": [
    "import requests"
   ]
  },
  {
   "cell_type": "code",
   "execution_count": 77,
   "metadata": {
    "ExecuteTime": {
     "end_time": "2021-04-02T21:14:44.353649Z",
     "start_time": "2021-04-02T21:14:44.344001Z"
    }
   },
   "outputs": [],
   "source": [
    "resp = requests.get('http://127.0.0.1:8080/user', params={'n': 5})"
   ]
  },
  {
   "cell_type": "code",
   "execution_count": 78,
   "metadata": {
    "ExecuteTime": {
     "end_time": "2021-04-02T21:14:44.774905Z",
     "start_time": "2021-04-02T21:14:44.769894Z"
    }
   },
   "outputs": [
    {
     "data": {
      "text/plain": [
       "[{'age': 29,\n",
       "  'degree': 'K12',\n",
       "  'first_name': 'Mary',\n",
       "  'gender': 'M',\n",
       "  'introduction': 'Husband federal plant clear former share pass. Wait very fish above trial town student later.',\n",
       "  'last_name': 'Wright',\n",
       "  'photo_url': None,\n",
       "  'school': 'UCSD',\n",
       "  'tags': ['Algorithm', 'English', 'DL', 'Math', 'ML'],\n",
       "  'tutor': False,\n",
       "  'user_id': 'brian96@gmail.com'},\n",
       " {'age': 15,\n",
       "  'availability': ['11-20,Sunday',\n",
       "   '13-17,Wednesday',\n",
       "   '12-20,Tuesday',\n",
       "   '11-12,Sunday',\n",
       "   '9-20,Friday'],\n",
       "  'degree': 'M.S',\n",
       "  'first_name': 'Wendy',\n",
       "  'gender': 'M',\n",
       "  'introduction': 'Wonder know student play.\\nStaff land pull. Real simply herself.\\nShoulder election program music. White crime start watch growth.\\nBase positive indicate may tend. Information notice red civil animal.',\n",
       "  'last_name': 'Lewis',\n",
       "  'photo_url': None,\n",
       "  'school': 'UCSD',\n",
       "  'tags': ['Art', 'Art', 'Math'],\n",
       "  'tutor': True,\n",
       "  'user_id': 'lleblanc@dennis.com'},\n",
       " {'age': 15,\n",
       "  'degree': 'M.S',\n",
       "  'first_name': 'Jennifer',\n",
       "  'gender': 'M',\n",
       "  'introduction': 'Leader region player far tough tend south them. Seek upon suffer. Age garden recognize agency.\\nOutside throughout purpose difference you station. Tv production man should reality cup.',\n",
       "  'last_name': 'Johnson',\n",
       "  'photo_url': None,\n",
       "  'school': 'UCSD',\n",
       "  'tags': ['DL', 'Stats', 'Math', 'CS'],\n",
       "  'tutor': False,\n",
       "  'user_id': 'jacquelinekennedy@francis-johnson.com'},\n",
       " {'age': 22,\n",
       "  'availability': ['8-10,Monday', '15-18,Saturday'],\n",
       "  'degree': 'B.S',\n",
       "  'first_name': 'Amber',\n",
       "  'gender': 'M',\n",
       "  'introduction': 'Form young carry executive. Central wall record usually as traditional find bring.\\nFeeling see board air economy sing kind summer. Charge defense east language. Heavy visit late employee them.',\n",
       "  'last_name': 'Soto',\n",
       "  'photo_url': None,\n",
       "  'school': 'Columbia University',\n",
       "  'tags': ['Algorithm', 'ML', 'DL', 'Japanese', 'France'],\n",
       "  'tutor': True,\n",
       "  'user_id': 'roberthaynes@gmail.com'},\n",
       " {'age': 23,\n",
       "  'degree': 'M.E',\n",
       "  'first_name': 'Donna',\n",
       "  'gender': 'M',\n",
       "  'introduction': 'Do better expect return member. Turn popular number civil. Order true politics.\\nKind down American instead exactly. Degree on their drop that argue old. Sign alone point clearly goal.',\n",
       "  'last_name': 'Porter',\n",
       "  'photo_url': None,\n",
       "  'school': 'UCSD',\n",
       "  'tags': ['Japanese', 'Chinese'],\n",
       "  'tutor': False,\n",
       "  'user_id': 'nolancaroline@yahoo.com'}]"
      ]
     },
     "execution_count": 78,
     "metadata": {},
     "output_type": "execute_result"
    }
   ],
   "source": [
    "resp.json()"
   ]
  },
  {
   "cell_type": "code",
   "execution_count": 2,
   "metadata": {
    "ExecuteTime": {
     "end_time": "2021-04-03T21:30:05.298942Z",
     "start_time": "2021-04-03T21:30:04.795444Z"
    }
   },
   "outputs": [],
   "source": [
    "import pandas as pd\n",
    "import json"
   ]
  },
  {
   "cell_type": "code",
   "execution_count": 97,
   "metadata": {
    "ExecuteTime": {
     "end_time": "2021-04-02T22:21:59.860489Z",
     "start_time": "2021-04-02T22:21:59.854242Z"
    }
   },
   "outputs": [],
   "source": [
    "college_major = pd.read_csv('collage_major.csv').Major.str.lower().str.replace(' programs', '').tolist()"
   ]
  },
  {
   "cell_type": "code",
   "execution_count": 116,
   "metadata": {
    "ExecuteTime": {
     "end_time": "2021-04-02T22:42:33.310141Z",
     "start_time": "2021-04-02T22:42:33.307201Z"
    }
   },
   "outputs": [],
   "source": [
    "college_major = [' '.join([i.capitalize() for i in word.split(' ')]) for word in college_major]"
   ]
  },
  {
   "cell_type": "code",
   "execution_count": 117,
   "metadata": {
    "ExecuteTime": {
     "end_time": "2021-04-02T22:42:35.493577Z",
     "start_time": "2021-04-02T22:42:35.490611Z"
    }
   },
   "outputs": [],
   "source": [
    "with open('collage_major.json', 'w') as f:\n",
    "    f.write(json.dumps(college_major))"
   ]
  },
  {
   "cell_type": "code",
   "execution_count": 118,
   "metadata": {
    "ExecuteTime": {
     "end_time": "2021-04-02T22:42:44.746749Z",
     "start_time": "2021-04-02T22:42:44.739042Z"
    }
   },
   "outputs": [],
   "source": [
    "grad_major = pd.read_csv('grad_major.csv').Major.str.lower().str.replace(' programs', '').tolist()"
   ]
  },
  {
   "cell_type": "code",
   "execution_count": 119,
   "metadata": {
    "ExecuteTime": {
     "end_time": "2021-04-02T22:42:51.565761Z",
     "start_time": "2021-04-02T22:42:51.563013Z"
    }
   },
   "outputs": [],
   "source": [
    "grad_major = [' '.join([i.capitalize() for i in word.split(' ')]) for word in grad_major]"
   ]
  },
  {
   "cell_type": "code",
   "execution_count": 120,
   "metadata": {
    "ExecuteTime": {
     "end_time": "2021-04-02T22:42:56.305752Z",
     "start_time": "2021-04-02T22:42:56.303154Z"
    }
   },
   "outputs": [],
   "source": [
    "with open('grad_major.json', 'w') as f:\n",
    "    f.write(json.dumps(grad_major))"
   ]
  },
  {
   "cell_type": "code",
   "execution_count": 105,
   "metadata": {
    "ExecuteTime": {
     "end_time": "2021-04-02T22:24:20.738164Z",
     "start_time": "2021-04-02T22:24:20.731808Z"
    }
   },
   "outputs": [
    {
     "data": {
      "text/plain": [
       "['construction services',\n",
       " 'commercial art and graphic design',\n",
       " 'hospitality management',\n",
       " 'cosmetology services and culinary arts',\n",
       " 'communication technologies',\n",
       " 'court reporting',\n",
       " 'marketing and marketing research',\n",
       " 'agriculture production and management',\n",
       " 'computer programming and data processing',\n",
       " 'advertising and public relations',\n",
       " 'film video and photographic arts',\n",
       " 'electrical, mechanical, and precision technologies and production',\n",
       " 'mechanical engineering related technologies',\n",
       " 'mass media',\n",
       " 'transportation sciences and technologies',\n",
       " 'computer networking and telecommunications',\n",
       " 'miscellaneous business & medical administration',\n",
       " 'miscellaneous engineering technologies',\n",
       " 'industrial production technologies',\n",
       " 'miscellaneous fine arts',\n",
       " 'criminal justice and fire protection',\n",
       " 'business management and administration',\n",
       " 'criminology',\n",
       " 'management information systems and statistics',\n",
       " 'computer administration management and security',\n",
       " 'operations logistics and e-commerce',\n",
       " 'general business',\n",
       " 'medical technologies technicians',\n",
       " 'computer and information systems',\n",
       " 'communications',\n",
       " 'actuarial science',\n",
       " 'electrical engineering technology',\n",
       " 'journalism',\n",
       " 'medical assisting services',\n",
       " 'engineering technologies',\n",
       " 'accounting',\n",
       " 'fine arts',\n",
       " 'nursing',\n",
       " 'information sciences',\n",
       " 'architectural engineering',\n",
       " 'multi/interdisciplinary studies',\n",
       " 'nuclear, industrial radiology, and biological technologies',\n",
       " 'general agriculture',\n",
       " 'forestry',\n",
       " 'liberal arts',\n",
       " 'human services and community organization',\n",
       " 'visual and performing arts',\n",
       " 'natural resources management',\n",
       " 'studio arts',\n",
       " 'family and consumer sciences',\n",
       " 'physical fitness parks recreation and leisure',\n",
       " 'finance',\n",
       " 'petroleum engineering',\n",
       " 'plant science and agronomy',\n",
       " 'human resources and personnel management',\n",
       " 'international business',\n",
       " 'composition and rhetoric',\n",
       " 'drama and theater arts',\n",
       " 'business economics',\n",
       " 'engineering and industrial management',\n",
       " 'computer science',\n",
       " 'health and medical administrative services',\n",
       " 'agricultural economics',\n",
       " 'environmental science',\n",
       " 'geography',\n",
       " 'miscellaneous engineering',\n",
       " 'ecology',\n",
       " 'interdisciplinary social sciences',\n",
       " 'architecture',\n",
       " 'soil science',\n",
       " 'pre-law and legal studies',\n",
       " 'general engineering',\n",
       " 'multi-disciplinary or general science',\n",
       " 'civil engineering',\n",
       " 'computer engineering',\n",
       " 'mining and mineral engineering',\n",
       " 'early childhood education',\n",
       " 'sociology',\n",
       " 'general social sciences',\n",
       " 'animal sciences',\n",
       " 'treatment therapy professions',\n",
       " 'miscellaneous agriculture',\n",
       " 'mechanical engineering',\n",
       " 'humanities',\n",
       " 'food science',\n",
       " 'industrial and manufacturing engineering',\n",
       " 'geological and geophysical engineering',\n",
       " 'social psychology',\n",
       " 'naval architecture and marine engineering',\n",
       " 'mathematics and computer science',\n",
       " 'art history and criticism',\n",
       " 'miscellaneous health medical professions',\n",
       " 'general medical and health services',\n",
       " 'intercultural and international studies',\n",
       " 'nutrition sciences',\n",
       " 'economics',\n",
       " 'physical and health education teaching',\n",
       " 'community and public health',\n",
       " 'electrical engineering',\n",
       " 'theology and religious vocations',\n",
       " 'oceanography',\n",
       " 'miscellaneous education',\n",
       " 'biological engineering',\n",
       " 'public administration',\n",
       " 'elementary education',\n",
       " 'industrial and organizational psychology',\n",
       " 'military technologies',\n",
       " 'general education',\n",
       " 'music',\n",
       " 'art and music education',\n",
       " 'linguistics and comparative language and literature',\n",
       " 'materials engineering and materials science',\n",
       " 'anthropology and archeology',\n",
       " 'social work',\n",
       " 'english language and literature',\n",
       " 'teacher education: multiple levels',\n",
       " 'geology and earth science',\n",
       " 'pharmacy pharmaceutical sciences and administration',\n",
       " 'other foreign languages',\n",
       " 'psychology',\n",
       " 'area ethnic and civilization studies',\n",
       " 'physical sciences',\n",
       " 'atmospheric sciences and meteorology',\n",
       " 'chemical engineering',\n",
       " 'aerospace engineering',\n",
       " 'history',\n",
       " 'miscellaneous social sciences',\n",
       " 'applied mathematics',\n",
       " 'statistics and decision science',\n",
       " 'french german latin and other common foreign language studies',\n",
       " 'social science or history teacher education',\n",
       " 'mathematics',\n",
       " 'political science and government',\n",
       " 'international relations',\n",
       " 'environmental engineering',\n",
       " 'miscellaneous biology',\n",
       " 'miscellaneous psychology',\n",
       " 'metallurgical engineering',\n",
       " 'secondary teacher education',\n",
       " 'geosciences',\n",
       " 'united states history',\n",
       " 'engineering mechanics physics and science',\n",
       " 'cognitive science and biopsychology',\n",
       " 'language and drama education',\n",
       " 'nuclear engineering',\n",
       " 'public policy',\n",
       " 'mathematics teacher education',\n",
       " 'science and computer teacher education',\n",
       " 'microbiology',\n",
       " 'philosophy and religious studies',\n",
       " 'special needs education',\n",
       " 'botany',\n",
       " 'biology',\n",
       " 'astronomy and astrophysics',\n",
       " 'chemistry',\n",
       " 'physiology',\n",
       " 'biomedical engineering',\n",
       " 'library science',\n",
       " 'molecular biology',\n",
       " 'pharmacology',\n",
       " 'zoology',\n",
       " 'physics',\n",
       " 'neuroscience',\n",
       " 'educational psychology',\n",
       " 'biochemical sciences',\n",
       " 'genetics',\n",
       " 'materials science',\n",
       " 'communication disorders sciences and services',\n",
       " 'counseling psychology',\n",
       " 'clinical psychology',\n",
       " 'health and medical preparatory',\n",
       " 'school student counseling',\n",
       " 'educational administration and supervision']"
      ]
     },
     "execution_count": 105,
     "metadata": {},
     "output_type": "execute_result"
    }
   ],
   "source": [
    "json.load(open('grad_major.json'))"
   ]
  },
  {
   "cell_type": "code",
   "execution_count": 127,
   "metadata": {
    "ExecuteTime": {
     "end_time": "2021-04-03T05:23:49.033481Z",
     "start_time": "2021-04-03T05:23:49.030135Z"
    }
   },
   "outputs": [
    {
     "data": {
      "text/plain": [
       "'Himself'"
      ]
     },
     "execution_count": 127,
     "metadata": {},
     "output_type": "execute_result"
    }
   ],
   "source": [
    "fake.text().split(' ')[0]"
   ]
  },
  {
   "cell_type": "code",
   "execution_count": 129,
   "metadata": {
    "ExecuteTime": {
     "end_time": "2021-04-03T05:24:22.514491Z",
     "start_time": "2021-04-03T05:24:22.511165Z"
    }
   },
   "outputs": [
    {
     "data": {
      "text/plain": [
       "'00:02:41'"
      ]
     },
     "execution_count": 129,
     "metadata": {},
     "output_type": "execute_result"
    }
   ],
   "source": [
    "fake.time()"
   ]
  },
  {
   "cell_type": "code",
   "execution_count": 140,
   "metadata": {
    "ExecuteTime": {
     "end_time": "2021-04-03T05:28:09.160536Z",
     "start_time": "2021-04-03T05:28:09.157686Z"
    }
   },
   "outputs": [],
   "source": [
    "tmp = fake.date_between_dates(date_start=date(2021, 3, 1), date_end=date(2021, 4, 3))"
   ]
  },
  {
   "cell_type": "code",
   "execution_count": 150,
   "metadata": {
    "ExecuteTime": {
     "end_time": "2021-04-03T05:31:24.174777Z",
     "start_time": "2021-04-03T05:31:24.171144Z"
    }
   },
   "outputs": [
    {
     "data": {
      "text/plain": [
       "'21:02:50,2021-03-12'"
      ]
     },
     "execution_count": 150,
     "metadata": {},
     "output_type": "execute_result"
    }
   ],
   "source": [
    "str(fake.time()) + ','+ str(tmp)"
   ]
  },
  {
   "cell_type": "code",
   "execution_count": 149,
   "metadata": {
    "ExecuteTime": {
     "end_time": "2021-04-03T05:31:11.257996Z",
     "start_time": "2021-04-03T05:31:11.254551Z"
    }
   },
   "outputs": [
    {
     "data": {
      "text/plain": [
       "datetime.timedelta(0)"
      ]
     },
     "execution_count": 149,
     "metadata": {},
     "output_type": "execute_result"
    }
   ],
   "source": [
    "fake.time_delta()"
   ]
  },
  {
   "cell_type": "code",
   "execution_count": 157,
   "metadata": {
    "ExecuteTime": {
     "end_time": "2021-04-03T05:38:56.436444Z",
     "start_time": "2021-04-03T05:38:55.415604Z"
    }
   },
   "outputs": [],
   "source": [
    "resp = requests.get('http://localhost:8080/user/questions', headers={'page': '2', 'user_id': 'sy2938@columbia.edu'})"
   ]
  },
  {
   "cell_type": "code",
   "execution_count": 158,
   "metadata": {
    "ExecuteTime": {
     "end_time": "2021-04-03T05:38:58.186360Z",
     "start_time": "2021-04-03T05:38:58.183102Z"
    }
   },
   "outputs": [
    {
     "data": {
      "text/plain": [
       "200"
      ]
     },
     "execution_count": 158,
     "metadata": {},
     "output_type": "execute_result"
    }
   ],
   "source": [
    "resp.status_code"
   ]
  },
  {
   "cell_type": "code",
   "execution_count": 161,
   "metadata": {
    "ExecuteTime": {
     "end_time": "2021-04-03T06:29:38.877516Z",
     "start_time": "2021-04-03T06:29:38.872911Z"
    }
   },
   "outputs": [
    {
     "data": {
      "text/plain": [
       "[{'detail': 'Company true response throw effect debate bed. Almost budget law finally approach. Hear over eye floor situation face court. Time cell operation main environment.',\n",
       "  'status': 'canceled',\n",
       "  'tags': ['Chinese', 'Finance'],\n",
       "  'time': '00:37:04,2021-03-23',\n",
       "  'title': 'What is In',\n",
       "  'tutor_id': 'sy2938@columbia.edu',\n",
       "  'user_id': 'annasanchez@yahoo.com'},\n",
       " {'detail': 'Economic religious capital feel. Art certainly seem assume stay consider although decide. Budget reveal against else eight create.',\n",
       "  'status': 'canceled',\n",
       "  'tags': ['ML'],\n",
       "  'time': '12:54:14,2021-03-03',\n",
       "  'title': 'What is Buy',\n",
       "  'tutor_id': 'sy2938@columbia.edu',\n",
       "  'user_id': 'judy19@hotmail.com'},\n",
       " {'detail': 'Crime option garden in. Born successful need join.\\nCut conference model school. Wall guess for leave upon. Analysis chair director trade.',\n",
       "  'status': 'accepted',\n",
       "  'tags': ['Finance'],\n",
       "  'time': '10:51:40,2021-03-09',\n",
       "  'title': 'What is Task',\n",
       "  'tutor_id': 'michael62@yahoo.com',\n",
       "  'user_id': 'sy2938@columbia.edu'},\n",
       " {'detail': 'Might occur yard wear agreement. Their loss increase hot without least into few. Technology inside he smile.',\n",
       "  'status': 'confirmed',\n",
       "  'tags': ['Chinese', 'ML', 'Stats'],\n",
       "  'time': '04:27:31,2021-03-18',\n",
       "  'title': 'What is Rate',\n",
       "  'tutor_id': 'sy2938@columbia.edu',\n",
       "  'user_id': 'dylan31@anderson.com'},\n",
       " {'detail': 'Practice purpose radio line put other look. Debate movie able worry better present mouth. Investment fall range system any subject.',\n",
       "  'status': 'accepted',\n",
       "  'tags': ['Art', 'Chinese'],\n",
       "  'time': '05:24:47,2021-04-26',\n",
       "  'title': 'What is Someone',\n",
       "  'tutor_id': 'ryankelly@hotmail.com',\n",
       "  'user_id': 'sy2938@columbia.edu'},\n",
       " {'detail': 'Despite police institution project expect discover. Newspaper important explain mention customer realize let. Return build material carry well.',\n",
       "  'status': 'accepted',\n",
       "  'tags': ['Art', 'Math'],\n",
       "  'time': '04:40:07,2021-03-24',\n",
       "  'title': 'What is Leg',\n",
       "  'tutor_id': 'johnnywong@underwood.com',\n",
       "  'user_id': 'sy2938@columbia.edu'},\n",
       " {'detail': 'Him society option church contain federal. Describe leg toward situation sport.',\n",
       "  'status': 'canceled',\n",
       "  'tags': ['Math'],\n",
       "  'time': '19:10:18,2021-04-28',\n",
       "  'title': 'What is Trade',\n",
       "  'tutor_id': 'lorozco@gmail.com',\n",
       "  'user_id': 'sy2938@columbia.edu'},\n",
       " {'detail': 'Around economy land commercial degree career check.\\nHigh example attorney break election.\\nCulture discuss again heavy open. Personal strategy miss special avoid. Learn interview wife attack.',\n",
       "  'status': 'canceled',\n",
       "  'tags': ['Finance'],\n",
       "  'time': '04:19:06,2021-04-02',\n",
       "  'title': 'What is Rate',\n",
       "  'tutor_id': 'kgaines@stokes.com',\n",
       "  'user_id': 'sy2938@columbia.edu'},\n",
       " {'detail': 'Interest while enter top. Example American election.\\nLikely in sound attorney represent find summer. Service participant according chance behavior. Or TV just forget special during.',\n",
       "  'status': 'canceled',\n",
       "  'tags': [],\n",
       "  'time': '00:09:28,2021-04-04',\n",
       "  'title': 'What is Very',\n",
       "  'tutor_id': 'sy2938@columbia.edu',\n",
       "  'user_id': 'mvance@lee.com'},\n",
       " {'detail': 'Exist admit skin. Recently party goal outside. Then operation activity way page beat.',\n",
       "  'status': 'posted',\n",
       "  'tags': ['English'],\n",
       "  'time': '11:55:20,2021-04-25',\n",
       "  'title': 'What is City',\n",
       "  'tutor_id': 'grayjohn@johnson.info',\n",
       "  'user_id': 'sy2938@columbia.edu'}]"
      ]
     },
     "execution_count": 161,
     "metadata": {},
     "output_type": "execute_result"
    }
   ],
   "source": [
    "resp.json()"
   ]
  },
  {
   "cell_type": "code",
   "execution_count": 164,
   "metadata": {
    "ExecuteTime": {
     "end_time": "2021-04-03T07:04:26.145669Z",
     "start_time": "2021-04-03T07:04:26.142310Z"
    }
   },
   "outputs": [
    {
     "data": {
      "text/plain": [
       "'16:27:23'"
      ]
     },
     "execution_count": 164,
     "metadata": {},
     "output_type": "execute_result"
    }
   ],
   "source": [
    "fake.time()"
   ]
  },
  {
   "cell_type": "code",
   "execution_count": 14,
   "metadata": {
    "ExecuteTime": {
     "end_time": "2021-04-03T21:32:38.700500Z",
     "start_time": "2021-04-03T21:32:38.698106Z"
    }
   },
   "outputs": [],
   "source": [
    "import datetime\n",
    "from datetime import date\n",
    "x = datetime.datetime.now()"
   ]
  },
  {
   "cell_type": "code",
   "execution_count": 15,
   "metadata": {
    "ExecuteTime": {
     "end_time": "2021-04-03T21:32:40.140650Z",
     "start_time": "2021-04-03T21:32:40.137438Z"
    }
   },
   "outputs": [
    {
     "data": {
      "text/plain": [
       "datetime.datetime(2020, 5, 17, 12, 1)"
      ]
     },
     "execution_count": 15,
     "metadata": {},
     "output_type": "execute_result"
    }
   ],
   "source": [
    "datetime.datetime(2020, 5, 17, 12, 1)"
   ]
  },
  {
   "cell_type": "code",
   "execution_count": 26,
   "metadata": {
    "ExecuteTime": {
     "end_time": "2021-04-03T21:35:09.634270Z",
     "start_time": "2021-04-03T21:35:09.631932Z"
    }
   },
   "outputs": [],
   "source": [
    "fake_time = fake.time().split(':')"
   ]
  },
  {
   "cell_type": "code",
   "execution_count": 27,
   "metadata": {
    "ExecuteTime": {
     "end_time": "2021-04-03T21:35:11.231535Z",
     "start_time": "2021-04-03T21:35:11.228551Z"
    }
   },
   "outputs": [
    {
     "data": {
      "text/plain": [
       "['08', '54', '48']"
      ]
     },
     "execution_count": 27,
     "metadata": {},
     "output_type": "execute_result"
    }
   ],
   "source": []
  },
  {
   "cell_type": "code",
   "execution_count": 17,
   "metadata": {
    "ExecuteTime": {
     "end_time": "2021-04-03T21:32:41.604089Z",
     "start_time": "2021-04-03T21:32:41.600291Z"
    }
   },
   "outputs": [
    {
     "data": {
      "text/plain": [
       "datetime.date(2021, 4, 3)"
      ]
     },
     "execution_count": 17,
     "metadata": {},
     "output_type": "execute_result"
    }
   ],
   "source": [
    " fake.date_between_dates(date_start=date(2021, 3, 1), date_end=date(2021, 4, 30))"
   ]
  },
  {
   "cell_type": "code",
   "execution_count": 20,
   "metadata": {
    "ExecuteTime": {
     "end_time": "2021-04-03T21:33:51.895531Z",
     "start_time": "2021-04-03T21:33:51.892817Z"
    }
   },
   "outputs": [],
   "source": [
    "fake_date = fake.date_between_dates(date_start=date(2021, 3, 1), date_end=date(2021, 4, 30))"
   ]
  },
  {
   "cell_type": "code",
   "execution_count": 21,
   "metadata": {
    "ExecuteTime": {
     "end_time": "2021-04-03T21:33:54.481068Z",
     "start_time": "2021-04-03T21:33:54.478487Z"
    }
   },
   "outputs": [
    {
     "data": {
      "text/plain": [
       "datetime.date(2021, 4, 7)"
      ]
     },
     "execution_count": 21,
     "metadata": {},
     "output_type": "execute_result"
    }
   ],
   "source": [
    "fake_date.year, "
   ]
  },
  {
   "cell_type": "code",
   "execution_count": 31,
   "metadata": {
    "ExecuteTime": {
     "end_time": "2021-04-03T21:40:13.660466Z",
     "start_time": "2021-04-03T21:40:13.658083Z"
    }
   },
   "outputs": [],
   "source": [
    "time = datetime.datetime(fake_date.year, fake_date.month, \n",
    "                        fake_date.day, int(fake_time[0]) , int(fake_time[1]))"
   ]
  },
  {
   "cell_type": "code",
   "execution_count": 34,
   "metadata": {
    "ExecuteTime": {
     "end_time": "2021-04-03T21:40:35.663931Z",
     "start_time": "2021-04-03T21:40:35.660781Z"
    }
   },
   "outputs": [
    {
     "data": {
      "text/plain": [
       "'2021-04-07T08:54:00'"
      ]
     },
     "execution_count": 34,
     "metadata": {},
     "output_type": "execute_result"
    }
   ],
   "source": [
    "time.isoformat()"
   ]
  },
  {
   "cell_type": "code",
   "execution_count": 35,
   "metadata": {
    "ExecuteTime": {
     "end_time": "2021-04-03T21:49:10.473543Z",
     "start_time": "2021-04-03T21:49:10.471484Z"
    }
   },
   "outputs": [],
   "source": [
    "import time"
   ]
  },
  {
   "cell_type": "code",
   "execution_count": 66,
   "metadata": {
    "ExecuteTime": {
     "end_time": "2021-04-03T22:34:43.513587Z",
     "start_time": "2021-04-03T22:34:43.511006Z"
    }
   },
   "outputs": [],
   "source": [
    "times = [{'time': datetime.datetime.now()} for _ in range(10)]"
   ]
  },
  {
   "cell_type": "code",
   "execution_count": 74,
   "metadata": {
    "ExecuteTime": {
     "end_time": "2021-04-03T22:36:05.820199Z",
     "start_time": "2021-04-03T22:36:05.816795Z"
    }
   },
   "outputs": [
    {
     "data": {
      "text/plain": [
       "'18:34,04/03/21'"
      ]
     },
     "execution_count": 74,
     "metadata": {},
     "output_type": "execute_result"
    }
   ],
   "source": [
    "times[0]['time'].strftime(\"%H:%M,%D\")"
   ]
  },
  {
   "cell_type": "code",
   "execution_count": 80,
   "metadata": {
    "ExecuteTime": {
     "end_time": "2021-04-03T22:53:11.752579Z",
     "start_time": "2021-04-03T22:53:11.748655Z"
    }
   },
   "outputs": [
    {
     "data": {
      "text/plain": [
       "['18:34,04/03/21',\n",
       " '18:34,04/03/21',\n",
       " '18:34,04/03/21',\n",
       " '18:34,04/03/21',\n",
       " '18:34,04/03/21',\n",
       " '18:34,04/03/21',\n",
       " '18:34,04/03/21',\n",
       " '18:34,04/03/21',\n",
       " '18:34,04/03/21',\n",
       " '18:34,04/03/21']"
      ]
     },
     "execution_count": 80,
     "metadata": {},
     "output_type": "execute_result"
    }
   ],
   "source": [
    "[t['time'].strftime(\"%H:%M,%D\") for t in  times]"
   ]
  },
  {
   "cell_type": "code",
   "execution_count": 87,
   "metadata": {
    "ExecuteTime": {
     "end_time": "2021-04-03T23:44:50.093947Z",
     "start_time": "2021-04-03T23:44:50.090394Z"
    }
   },
   "outputs": [
    {
     "data": {
      "text/plain": [
       "True"
      ]
     },
     "execution_count": 87,
     "metadata": {},
     "output_type": "execute_result"
    }
   ],
   "source": [
    "times[0]['time'] < datetime.datetime.now()"
   ]
  },
  {
   "cell_type": "code",
   "execution_count": 89,
   "metadata": {
    "ExecuteTime": {
     "end_time": "2021-04-04T00:16:45.711597Z",
     "start_time": "2021-04-04T00:16:45.709586Z"
    }
   },
   "outputs": [],
   "source": [
    "import random"
   ]
  },
  {
   "cell_type": "code",
   "execution_count": 90,
   "metadata": {
    "ExecuteTime": {
     "end_time": "2021-04-04T00:16:55.784635Z",
     "start_time": "2021-04-04T00:16:55.781918Z"
    }
   },
   "outputs": [],
   "source": [
    "times = [{'time': datetime.datetime.now(), 'status': random.choice(['accepted', 'finished'])} for _ in range(10)]"
   ]
  },
  {
   "cell_type": "code",
   "execution_count": 93,
   "metadata": {
    "ExecuteTime": {
     "end_time": "2021-04-04T00:18:07.062265Z",
     "start_time": "2021-04-04T00:18:07.059079Z"
    }
   },
   "outputs": [
    {
     "data": {
      "text/plain": [
       "[{'time': datetime.datetime(2021, 4, 3, 20, 16, 55, 783029),\n",
       "  'status': 'finished'},\n",
       " {'time': datetime.datetime(2021, 4, 3, 20, 16, 55, 783036),\n",
       "  'status': 'finished'},\n",
       " {'time': datetime.datetime(2021, 4, 3, 20, 16, 55, 783038),\n",
       "  'status': 'finished'}]"
      ]
     },
     "execution_count": 93,
     "metadata": {},
     "output_type": "execute_result"
    }
   ],
   "source": [
    "[b for b in times if b['status'] == 'finished']"
   ]
  },
  {
   "cell_type": "code",
   "execution_count": 95,
   "metadata": {
    "ExecuteTime": {
     "end_time": "2021-04-04T00:19:01.868274Z",
     "start_time": "2021-04-04T00:19:01.864657Z"
    }
   },
   "outputs": [
    {
     "data": {
      "text/plain": [
       "[{'time': datetime.datetime(2021, 4, 3, 20, 16, 55, 783029),\n",
       "  'status': 'finished'},\n",
       " {'time': datetime.datetime(2021, 4, 3, 20, 16, 55, 783036),\n",
       "  'status': 'finished'},\n",
       " {'time': datetime.datetime(2021, 4, 3, 20, 16, 55, 783038),\n",
       "  'status': 'finished'}]"
      ]
     },
     "execution_count": 95,
     "metadata": {},
     "output_type": "execute_result"
    }
   ],
   "source": [
    "list(filter(lambda x: x['status']=='finished', times))"
   ]
  },
  {
   "cell_type": "code",
   "execution_count": 97,
   "metadata": {
    "ExecuteTime": {
     "end_time": "2021-04-04T00:29:21.286969Z",
     "start_time": "2021-04-04T00:29:21.283786Z"
    }
   },
   "outputs": [
    {
     "data": {
      "text/plain": [
       "datetime.timedelta(seconds=7200)"
      ]
     },
     "execution_count": 97,
     "metadata": {},
     "output_type": "execute_result"
    }
   ],
   "source": [
    "datetime.timedelta(hours=2)"
   ]
  },
  {
   "cell_type": "code",
   "execution_count": 106,
   "metadata": {
    "ExecuteTime": {
     "end_time": "2021-04-04T00:39:53.911712Z",
     "start_time": "2021-04-04T00:39:53.908596Z"
    }
   },
   "outputs": [
    {
     "data": {
      "text/plain": [
       "datetime.datetime(2021, 4, 3, 22, 39, 53, 909347)"
      ]
     },
     "execution_count": 106,
     "metadata": {},
     "output_type": "execute_result"
    }
   ],
   "source": [
    "(datetime.datetime.now() + datetime.timedelta(hours=2))"
   ]
  },
  {
   "cell_type": "code",
   "execution_count": 105,
   "metadata": {
    "ExecuteTime": {
     "end_time": "2021-04-04T00:35:58.431011Z",
     "start_time": "2021-04-04T00:35:58.427480Z"
    }
   },
   "outputs": [
    {
     "data": {
      "text/plain": [
       "'22'"
      ]
     },
     "execution_count": 105,
     "metadata": {},
     "output_type": "execute_result"
    }
   ],
   "source": [
    "(datetime.datetime.now() + datetime.timedelta(hours=2)).strftime(\"%H\")\n",
    "\n"
   ]
  },
  {
   "cell_type": "code",
   "execution_count": 107,
   "metadata": {
    "ExecuteTime": {
     "end_time": "2021-04-04T06:02:39.039986Z",
     "start_time": "2021-04-04T06:02:39.037074Z"
    }
   },
   "outputs": [
    {
     "data": {
      "text/plain": [
       "'http://thomas.com/main/wp-content/posts/search.php'"
      ]
     },
     "execution_count": 107,
     "metadata": {},
     "output_type": "execute_result"
    }
   ],
   "source": [
    "fake.uri()"
   ]
  },
  {
   "cell_type": "code",
   "execution_count": null,
   "metadata": {},
   "outputs": [],
   "source": []
  }
 ],
 "metadata": {
  "kernelspec": {
   "display_name": "Python [conda env:scipy-ml]",
   "language": "python",
   "name": "conda-env-scipy-ml-py"
  },
  "language_info": {
   "codemirror_mode": {
    "name": "ipython",
    "version": 3
   },
   "file_extension": ".py",
   "mimetype": "text/x-python",
   "name": "python",
   "nbconvert_exporter": "python",
   "pygments_lexer": "ipython3",
   "version": "3.8.5"
  },
  "toc": {
   "base_numbering": 1,
   "nav_menu": {},
   "number_sections": true,
   "sideBar": true,
   "skip_h1_title": false,
   "title_cell": "Table of Contents",
   "title_sidebar": "Contents",
   "toc_cell": false,
   "toc_position": {},
   "toc_section_display": true,
   "toc_window_display": false
  }
 },
 "nbformat": 4,
 "nbformat_minor": 4
}
