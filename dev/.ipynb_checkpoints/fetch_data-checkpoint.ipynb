{
 "cells": [
  {
   "cell_type": "code",
   "execution_count": 44,
   "metadata": {
    "ExecuteTime": {
     "end_time": "2021-04-09T05:08:21.993395Z",
     "start_time": "2021-04-09T05:08:21.981135Z"
    }
   },
   "outputs": [],
   "source": [
    "import json\n",
    "import boto3\n",
    "from botocore.exceptions import ClientError\n",
    "\n",
    "user_table = 'user-profile'\n",
    "question_table = 'question'\n",
    "dynamodb = boto3.resource('dynamodb')\n",
    "table = dynamodb.Table(question_table)\n",
    "cognito = boto3.client('cognito-idp')\n",
    "\n"
   ]
  },
  {
   "cell_type": "code",
   "execution_count": 45,
   "metadata": {
    "ExecuteTime": {
     "end_time": "2021-04-09T05:08:22.580892Z",
     "start_time": "2021-04-09T05:08:22.575884Z"
    }
   },
   "outputs": [],
   "source": [
    "def lambda_handler(event, context):\n",
    "    # TODO implement\n",
    "#     access_token = event['headers']['access_token']\n",
    "#     print(access_token)\n",
    "#     try:\n",
    "#         resp = cognito.get_user(\n",
    "#             AccessToken=access_token,\n",
    "#         )\n",
    "#     except:\n",
    "#         return {\n",
    "#             'statusCode': 500,\n",
    "#             'body': json.dumps('Error in your login'),\n",
    "#             \"headers\": {\n",
    "#             'Content-Type':  'application/json',\n",
    "#             \"Access-Control-Allow-Origin\": \"*\",\n",
    "#             \"Access-Control-Allow-Headers\": \"*\"\n",
    "#             }\n",
    "#         }\n",
    "#     user = {i['Name']:i['Value'] for i in resp['UserAttributes']}\n",
    "#     user_id = user['email']\n",
    "    \n",
    "#     if 'user_id' not in event['headers']:\n",
    "#         return {\n",
    "#             'statusCode':500,\n",
    "#             'body':\"no user_id found.\",\n",
    "#             \"headers\": {\n",
    "#             'Content-Type':  'application/json',\n",
    "#             \"Access-Control-Allow-Origin\": \"*\",\n",
    "#             \"Access-Control-Allow-Headers\": \"*\"\n",
    "#             }\n",
    "#         }\n",
    "    \n",
    "    if not event['headers']['user_id']:\n",
    "        return {\n",
    "            'statusCode':400,\n",
    "            'body':\"user_id cannot be null\",\n",
    "            \"headers\": {\n",
    "            'Content-Type':  'application/json',\n",
    "            \"Access-Control-Allow-Origin\": \"*\",\n",
    "            \"Access-Control-Allow-Headers\": \"*\"\n",
    "            }\n",
    "        }\n",
    "    response = table.get_item(Key={'user_id': event['headers']['user_id']})\n",
    "    response = response.get(\"Item\")\n",
    "    if not response:\n",
    "        return {\n",
    "            'statusCode':400,\n",
    "            'body':\"Could not find user with user_id: \"+str(event['user_id']),\n",
    "            \"headers\": {\n",
    "            'Content-Type':  'application/json',\n",
    "            \"Access-Control-Allow-Origin\": \"*\",\n",
    "            \"Access-Control-Allow-Headers\": \"*\"\n",
    "            }\n",
    "        }\n",
    "    else:\n",
    "        return {\n",
    "            'statusCode': 200,\n",
    "            'body':response,\n",
    "            \"headers\": {\n",
    "            'Content-Type':  'application/json',\n",
    "            \"Access-Control-Allow-Origin\": \"*\",\n",
    "            \"Access-Control-Allow-Headers\": \"*\"\n",
    "            }\n",
    "        }"
   ]
  },
  {
   "cell_type": "code",
   "execution_count": 46,
   "metadata": {
    "ExecuteTime": {
     "end_time": "2021-04-09T05:08:23.621553Z",
     "start_time": "2021-04-09T05:08:23.619265Z"
    }
   },
   "outputs": [],
   "source": [
    "user_id = 'sy2938@columbia.edu'"
   ]
  },
  {
   "cell_type": "code",
   "execution_count": 47,
   "metadata": {
    "ExecuteTime": {
     "end_time": "2021-04-09T05:08:24.022659Z",
     "start_time": "2021-04-09T05:08:24.019968Z"
    }
   },
   "outputs": [],
   "source": [
    "from boto3.dynamodb.conditions import Key, Attr"
   ]
  },
  {
   "cell_type": "code",
   "execution_count": 49,
   "metadata": {
    "ExecuteTime": {
     "end_time": "2021-04-09T05:10:15.577095Z",
     "start_time": "2021-04-09T05:10:15.487405Z"
    }
   },
   "outputs": [
    {
     "data": {
      "text/plain": [
       "{'Items': [{'user_id': 'sy2938@columbia.edu',\n",
       "   'detail': 'I have question regarding to What is unleash seamless e-commerce, can anyone help?',\n",
       "   'attachment': 'https://www.sanders.com/',\n",
       "   'question_id': '5387f9fe-98f1-11eb-9343-acde48001122',\n",
       "   'question_status': 'accepted',\n",
       "   'start_time': '2021-04-19T08:00:00',\n",
       "   'tutor_id': 'baileydaniel@clark.info',\n",
       "   'end_time': '2021-04-19T10:00:00',\n",
       "   'tags': [],\n",
       "   'title': 'What is unleash seamless e-commerce'},\n",
       "  {'user_id': 'sy2938@columbia.edu',\n",
       "   'detail': 'I have question regarding to What is re-intermediate transparent e-commerce, can anyone help?',\n",
       "   'question_id': '538853f4-98f1-11eb-9343-acde48001122',\n",
       "   'question_status': 'posted',\n",
       "   'start_time': None,\n",
       "   'tutor_id': 'Null',\n",
       "   'end_time': None,\n",
       "   'tags': ['Data Science'],\n",
       "   'title': 'What is re-intermediate transparent e-commerce'},\n",
       "  {'user_id': 'sy2938@columbia.edu',\n",
       "   'detail': 'I have question regarding to What is enable killer e-tailers, can anyone help?',\n",
       "   'question_id': '53885df4-98f1-11eb-9343-acde48001122',\n",
       "   'question_status': 'confirmed',\n",
       "   'start_time': '2021-04-02T08:00:00',\n",
       "   'tutor_id': 'operez@booth.com',\n",
       "   'end_time': '2021-04-02T09:00:00',\n",
       "   'tags': ['Chinese'],\n",
       "   'title': 'What is enable killer e-tailers'},\n",
       "  {'user_id': 'sy2938@columbia.edu',\n",
       "   'detail': 'I have question regarding to What is monetize holistic e-services, can anyone help?',\n",
       "   'attachment': 'https://www.avila.com/',\n",
       "   'question_id': '5387e856-98f1-11eb-9343-acde48001122',\n",
       "   'question_status': 'posted',\n",
       "   'start_time': None,\n",
       "   'tutor_id': 'Null',\n",
       "   'end_time': None,\n",
       "   'tags': [],\n",
       "   'title': 'What is monetize holistic e-services'},\n",
       "  {'user_id': 'sy2938@columbia.edu',\n",
       "   'detail': 'I have question regarding to What is redefine dot-com e-business, can anyone help?',\n",
       "   'question_id': '538851ec-98f1-11eb-9343-acde48001122',\n",
       "   'question_status': 'accepted',\n",
       "   'start_time': '2021-04-23T14:00:00',\n",
       "   'tutor_id': 'kpalmer@brown-miller.com',\n",
       "   'end_time': '2021-04-23T17:00:00',\n",
       "   'tags': [],\n",
       "   'title': 'What is redefine dot-com e-business'},\n",
       "  {'user_id': 'sy2938@columbia.edu',\n",
       "   'detail': 'I have question regarding to What is incubate integrated channels, can anyone help?',\n",
       "   'attachment': 'https://ramsey.com/',\n",
       "   'question_id': '5388467a-98f1-11eb-9343-acde48001122',\n",
       "   'question_status': 'posted',\n",
       "   'start_time': None,\n",
       "   'tutor_id': 'Null',\n",
       "   'end_time': None,\n",
       "   'tags': ['Chinese'],\n",
       "   'title': 'What is incubate integrated channels'},\n",
       "  {'user_id': 'sy2938@columbia.edu',\n",
       "   'detail': 'I have question regarding to What is syndicate bricks-and-clicks models, can anyone help?',\n",
       "   'attachment': 'https://smith.com/',\n",
       "   'question_id': '5388061a-98f1-11eb-9343-acde48001122',\n",
       "   'question_status': 'confirmed',\n",
       "   'start_time': '2021-04-23T09:00:00',\n",
       "   'tutor_id': 'parsonsjoyce@anderson.biz',\n",
       "   'end_time': '2021-04-23T10:00:00',\n",
       "   'tags': ['Data Science'],\n",
       "   'title': 'What is syndicate bricks-and-clicks models'}],\n",
       " 'Count': 7,\n",
       " 'ScannedCount': 7,\n",
       " 'ResponseMetadata': {'RequestId': 'RTJCF0DTQCDI2LD156RI47J23FVV4KQNSO5AEMVJF66Q9ASUAAJG',\n",
       "  'HTTPStatusCode': 200,\n",
       "  'HTTPHeaders': {'server': 'Server',\n",
       "   'date': 'Fri, 09 Apr 2021 05:10:15 GMT',\n",
       "   'content-type': 'application/x-amz-json-1.0',\n",
       "   'content-length': '3137',\n",
       "   'connection': 'keep-alive',\n",
       "   'x-amzn-requestid': 'RTJCF0DTQCDI2LD156RI47J23FVV4KQNSO5AEMVJF66Q9ASUAAJG',\n",
       "   'x-amz-crc32': '3048800659'},\n",
       "  'RetryAttempts': 0}}"
      ]
     },
     "execution_count": 49,
     "metadata": {},
     "output_type": "execute_result"
    }
   ],
   "source": [
    "table.query(\n",
    "    IndexName='user_id',\n",
    "    Limit = 10,\n",
    "     KeyConditionExpression=Key('user_id').eq(user_id)\n",
    ")"
   ]
  },
  {
   "cell_type": "code",
   "execution_count": null,
   "metadata": {},
   "outputs": [],
   "source": []
  }
 ],
 "metadata": {
  "kernelspec": {
   "display_name": "Python 3",
   "language": "python",
   "name": "python3"
  },
  "language_info": {
   "codemirror_mode": {
    "name": "ipython",
    "version": 3
   },
   "file_extension": ".py",
   "mimetype": "text/x-python",
   "name": "python",
   "nbconvert_exporter": "python",
   "pygments_lexer": "ipython3",
   "version": "3.8.5"
  },
  "toc": {
   "base_numbering": 1,
   "nav_menu": {},
   "number_sections": true,
   "sideBar": true,
   "skip_h1_title": false,
   "title_cell": "Table of Contents",
   "title_sidebar": "Contents",
   "toc_cell": false,
   "toc_position": {},
   "toc_section_display": true,
   "toc_window_display": false
  }
 },
 "nbformat": 4,
 "nbformat_minor": 4
}
