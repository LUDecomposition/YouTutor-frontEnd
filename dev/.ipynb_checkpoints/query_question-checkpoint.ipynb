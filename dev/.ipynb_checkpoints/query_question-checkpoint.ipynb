{
 "cells": [
  {
   "cell_type": "code",
   "execution_count": 3,
   "metadata": {
    "ExecuteTime": {
     "end_time": "2021-04-09T06:51:39.529649Z",
     "start_time": "2021-04-09T06:51:39.521080Z"
    }
   },
   "outputs": [],
   "source": [
    "import boto3\n",
    "dynamodb = boto3.resource('dynamodb')\n",
    "question_table = dynamodb.Table('question')\n",
    "user_table = 'user-profile'"
   ]
  },
  {
   "cell_type": "code",
   "execution_count": 70,
   "metadata": {
    "ExecuteTime": {
     "end_time": "2021-04-09T07:46:44.217868Z",
     "start_time": "2021-04-09T07:46:44.215400Z"
    }
   },
   "outputs": [],
   "source": [
    "from boto3.dynamodb.conditions import Key, Attr, And, Not, Or"
   ]
  },
  {
   "cell_type": "code",
   "execution_count": 5,
   "metadata": {
    "ExecuteTime": {
     "end_time": "2021-04-09T06:51:42.148293Z",
     "start_time": "2021-04-09T06:51:42.145976Z"
    }
   },
   "outputs": [],
   "source": [
    "user_id = 'sy2938@columbia.edu'"
   ]
  },
  {
   "cell_type": "code",
   "execution_count": 88,
   "metadata": {
    "ExecuteTime": {
     "end_time": "2021-04-09T08:00:15.038237Z",
     "start_time": "2021-04-09T08:00:14.933106Z"
    },
    "scrolled": false
   },
   "outputs": [],
   "source": [
    "query = question_table.query(\n",
    "        Limit = 5,\n",
    "         IndexName=\"user_id\",\n",
    "        KeyConditionExpression=Key('user_id').eq(user_id)\n",
    "        )"
   ]
  },
  {
   "cell_type": "code",
   "execution_count": 130,
   "metadata": {
    "ExecuteTime": {
     "end_time": "2021-04-09T08:51:28.855231Z",
     "start_time": "2021-04-09T08:51:28.764176Z"
    }
   },
   "outputs": [],
   "source": [
    "answer_query = question_table.query(\n",
    "        Limit = 10,\n",
    "        ScanIndexForward= False,\n",
    "         IndexName=\"tutor_id\",\n",
    "        KeyConditionExpression=Key('tutor_id').eq(user_id)\n",
    "        )"
   ]
  },
  {
   "cell_type": "code",
   "execution_count": 131,
   "metadata": {
    "ExecuteTime": {
     "end_time": "2021-04-09T08:51:36.542117Z",
     "start_time": "2021-04-09T08:51:35.979979Z"
    }
   },
   "outputs": [],
   "source": [
    "import pandas as pd"
   ]
  },
  {
   "cell_type": "code",
   "execution_count": 133,
   "metadata": {
    "ExecuteTime": {
     "end_time": "2021-04-09T08:51:50.913112Z",
     "start_time": "2021-04-09T08:51:50.906043Z"
    }
   },
   "outputs": [
    {
     "data": {
      "text/plain": [
       "{'Items': [{'user_id': 'emily67@martinez.com',\n",
       "   'detail': 'I have question regarding to What is evolve magnetic web services, can anyone help?',\n",
       "   'created_at': Decimal('1618826400'),\n",
       "   'attachment': 'https://www.burch-hester.com/',\n",
       "   'question_id': '6dc94a04-9908-11eb-8788-acde48001122',\n",
       "   'question_status': 'confirmed',\n",
       "   'start_time': '2021-04-20T19:00:00',\n",
       "   'tutor_id': 'sy2938@columbia.edu',\n",
       "   'end_time': '2021-04-20T20:00:00',\n",
       "   'tags': [],\n",
       "   'title': 'What is evolve magnetic web services'},\n",
       "  {'user_id': 'hproctor@potts.biz',\n",
       "   'detail': 'I have question regarding to What is visualize distributed deliverables, can anyone help?',\n",
       "   'created_at': Decimal('1618837200'),\n",
       "   'attachment': 'https://www.rivers.com/',\n",
       "   'question_id': '6dc9c1dc-9908-11eb-8788-acde48001122',\n",
       "   'question_status': 'confirmed',\n",
       "   'start_time': '2021-04-23T13:00:00',\n",
       "   'tutor_id': 'sy2938@columbia.edu',\n",
       "   'end_time': '2021-04-23T16:00:00',\n",
       "   'tags': [],\n",
       "   'title': 'What is visualize distributed deliverables'},\n",
       "  {'user_id': 'renee64@martin.com',\n",
       "   'detail': 'I have question regarding to What is benchmark vertical functionalities, can anyone help?',\n",
       "   'created_at': Decimal('1618808400'),\n",
       "   'question_id': '6dc94496-9908-11eb-8788-acde48001122',\n",
       "   'question_status': 'confirmed',\n",
       "   'start_time': '2021-04-22T14:00:00',\n",
       "   'tutor_id': 'sy2938@columbia.edu',\n",
       "   'end_time': '2021-04-22T16:00:00',\n",
       "   'tags': [],\n",
       "   'title': 'What is benchmark vertical functionalities'},\n",
       "  {'user_id': 'kelly92@gmail.com',\n",
       "   'detail': 'I have question regarding to What is aggregate next-generation e-tailers, can anyone help?',\n",
       "   'created_at': Decimal('1617854400'),\n",
       "   'attachment': 'http://higgins.biz/',\n",
       "   'question_id': '6dc956d4-9908-11eb-8788-acde48001122',\n",
       "   'question_status': 'confirmed',\n",
       "   'start_time': '2021-04-12T15:00:00',\n",
       "   'tutor_id': 'sy2938@columbia.edu',\n",
       "   'end_time': '2021-04-12T16:00:00',\n",
       "   'tags': [],\n",
       "   'title': 'What is aggregate next-generation e-tailers'},\n",
       "  {'user_id': 'andersonheather@yahoo.com',\n",
       "   'detail': 'I have question regarding to What is leverage virtual initiatives, can anyone help?',\n",
       "   'created_at': Decimal('1618358400'),\n",
       "   'attachment': 'https://www.hernandez.info/',\n",
       "   'question_id': '6dc99234-9908-11eb-8788-acde48001122',\n",
       "   'question_status': 'accepted',\n",
       "   'start_time': '2021-04-16T15:00:00',\n",
       "   'tutor_id': 'sy2938@columbia.edu',\n",
       "   'end_time': '2021-04-16T17:00:00',\n",
       "   'tags': [],\n",
       "   'title': 'What is leverage virtual initiatives'},\n",
       "  {'user_id': 'huntersherry@simon.com',\n",
       "   'detail': 'I have question regarding to What is monetize sticky vortals, can anyone help?',\n",
       "   'created_at': Decimal('1617836400'),\n",
       "   'attachment': 'https://www.rodriguez.net/',\n",
       "   'question_id': '6dc99cf2-9908-11eb-8788-acde48001122',\n",
       "   'question_status': 'confirmed',\n",
       "   'start_time': '2021-04-08T12:00:00',\n",
       "   'tutor_id': 'sy2938@columbia.edu',\n",
       "   'end_time': '2021-04-08T13:00:00',\n",
       "   'tags': [],\n",
       "   'title': 'What is monetize sticky vortals'},\n",
       "  {'user_id': 'kaylanelson@hotmail.com',\n",
       "   'detail': 'I have question regarding to What is aggregate out-of-the-box convergence, can anyone help?',\n",
       "   'created_at': Decimal('1618614000'),\n",
       "   'attachment': 'https://www.silva.com/',\n",
       "   'question_id': '6dc981f4-9908-11eb-8788-acde48001122',\n",
       "   'question_status': 'accepted',\n",
       "   'start_time': '2021-04-19T14:00:00',\n",
       "   'tutor_id': 'sy2938@columbia.edu',\n",
       "   'end_time': '2021-04-19T15:00:00',\n",
       "   'tags': [],\n",
       "   'title': 'What is aggregate out-of-the-box convergence'},\n",
       "  {'user_id': 'gerald41@yahoo.com',\n",
       "   'detail': 'I have question regarding to What is orchestrate efficient convergence, can anyone help?',\n",
       "   'created_at': Decimal('1618149600'),\n",
       "   'question_id': '6dc94752-9908-11eb-8788-acde48001122',\n",
       "   'question_status': 'confirmed',\n",
       "   'start_time': '2021-04-12T14:00:00',\n",
       "   'tutor_id': 'sy2938@columbia.edu',\n",
       "   'end_time': '2021-04-12T15:00:00',\n",
       "   'tags': [],\n",
       "   'title': 'What is orchestrate efficient convergence'},\n",
       "  {'user_id': 'carol55@hotmail.com',\n",
       "   'detail': 'I have question regarding to What is optimize integrated info-mediaries, can anyone help?',\n",
       "   'created_at': Decimal('1618192800'),\n",
       "   'attachment': 'http://www.murphy-hayes.biz/',\n",
       "   'question_id': '6dc917c8-9908-11eb-8788-acde48001122',\n",
       "   'question_status': 'accepted',\n",
       "   'start_time': '2021-04-15T19:00:00',\n",
       "   'tutor_id': 'sy2938@columbia.edu',\n",
       "   'end_time': '2021-04-15T20:00:00',\n",
       "   'tags': [],\n",
       "   'title': 'What is optimize integrated info-mediaries'},\n",
       "  {'user_id': 'velasqueztyler@gmail.com',\n",
       "   'detail': 'I have question regarding to What is visualize granular interfaces, can anyone help?',\n",
       "   'created_at': Decimal('1617465600'),\n",
       "   'attachment': 'https://www.rodriguez.biz/',\n",
       "   'question_id': '6dc9231c-9908-11eb-8788-acde48001122',\n",
       "   'question_status': 'accepted',\n",
       "   'start_time': '2021-04-05T11:00:00',\n",
       "   'tutor_id': 'sy2938@columbia.edu',\n",
       "   'end_time': '2021-04-05T13:00:00',\n",
       "   'tags': [],\n",
       "   'title': 'What is visualize granular interfaces'}],\n",
       " 'Count': 10,\n",
       " 'ScannedCount': 10,\n",
       " 'LastEvaluatedKey': {'tutor_id': 'sy2938@columbia.edu',\n",
       "  'question_id': '6dc9231c-9908-11eb-8788-acde48001122',\n",
       "  'created_at': Decimal('1617465600')},\n",
       " 'ResponseMetadata': {'RequestId': 'QUUQM31ASL9RNQ4BDFNCVKQI5NVV4KQNSO5AEMVJF66Q9ASUAAJG',\n",
       "  'HTTPStatusCode': 200,\n",
       "  'HTTPHeaders': {'server': 'Server',\n",
       "   'date': 'Fri, 09 Apr 2021 08:51:28 GMT',\n",
       "   'content-type': 'application/x-amz-json-1.0',\n",
       "   'content-length': '5205',\n",
       "   'connection': 'keep-alive',\n",
       "   'x-amzn-requestid': 'QUUQM31ASL9RNQ4BDFNCVKQI5NVV4KQNSO5AEMVJF66Q9ASUAAJG',\n",
       "   'x-amz-crc32': '292493760'},\n",
       "  'RetryAttempts': 0}}"
      ]
     },
     "execution_count": 133,
     "metadata": {},
     "output_type": "execute_result"
    }
   ],
   "source": [
    "answer_query"
   ]
  },
  {
   "cell_type": "code",
   "execution_count": 87,
   "metadata": {
    "ExecuteTime": {
     "end_time": "2021-04-09T07:57:17.777618Z",
     "start_time": "2021-04-09T07:57:17.774249Z"
    }
   },
   "outputs": [
    {
     "data": {
      "text/plain": [
       "{'question_id': '6dc98d16-9908-11eb-8788-acde48001122',\n",
       " 'user_id': 'sy2938@columbia.edu',\n",
       " 'created_at': Decimal('1617904800')}"
      ]
     },
     "execution_count": 87,
     "metadata": {},
     "output_type": "execute_result"
    }
   ],
   "source": [
    "ask_query.get('LastEvaluatedKey')"
   ]
  },
  {
   "cell_type": "code",
   "execution_count": 89,
   "metadata": {
    "ExecuteTime": {
     "end_time": "2021-04-09T08:00:18.024916Z",
     "start_time": "2021-04-09T08:00:18.019591Z"
    }
   },
   "outputs": [
    {
     "data": {
      "text/plain": [
       "{'Items': [{'user_id': 'sy2938@columbia.edu',\n",
       "   'detail': 'I have question regarding to What is productize sticky markets, can anyone help?',\n",
       "   'created_at': Decimal('1618398000'),\n",
       "   'question_id': '6dc97eb6-9908-11eb-8788-acde48001122',\n",
       "   'question_status': 'accepted',\n",
       "   'start_time': '2021-04-16T19:00:00',\n",
       "   'tutor_id': 'montgomerycatherine@lewis.com',\n",
       "   'end_time': '2021-04-16T22:00:00',\n",
       "   'tags': ['Data Science'],\n",
       "   'title': 'What is productize sticky markets'},\n",
       "  {'user_id': 'sy2938@columbia.edu',\n",
       "   'detail': 'I have question regarding to What is revolutionize 24/365 paradigms, can anyone help?',\n",
       "   'created_at': Decimal('1617814380'),\n",
       "   'attachment': 'http://www.harper-hammond.com/',\n",
       "   'question_id': '6dc90bfc-9908-11eb-8788-acde48001122',\n",
       "   'question_status': 'posted',\n",
       "   'start_time': 'Null',\n",
       "   'tutor_id': 'Null',\n",
       "   'end_time': 'Null',\n",
       "   'tags': ['Chinese'],\n",
       "   'title': 'What is revolutionize 24/365 paradigms'},\n",
       "  {'user_id': 'sy2938@columbia.edu',\n",
       "   'detail': 'I have question regarding to What is mesh efficient eyeballs, can anyone help?',\n",
       "   'created_at': Decimal('1617909960'),\n",
       "   'question_id': '6dc98fc8-9908-11eb-8788-acde48001122',\n",
       "   'question_status': 'posted',\n",
       "   'start_time': 'Null',\n",
       "   'tutor_id': 'Null',\n",
       "   'end_time': 'Null',\n",
       "   'tags': [],\n",
       "   'title': 'What is mesh efficient eyeballs'},\n",
       "  {'user_id': 'sy2938@columbia.edu',\n",
       "   'detail': 'I have question regarding to What is envisioneer wireless paradigms, can anyone help?',\n",
       "   'created_at': Decimal('1618852560'),\n",
       "   'question_id': '6dc99a4a-9908-11eb-8788-acde48001122',\n",
       "   'question_status': 'posted',\n",
       "   'start_time': 'Null',\n",
       "   'tutor_id': 'Null',\n",
       "   'end_time': 'Null',\n",
       "   'tags': ['Chinese'],\n",
       "   'title': 'What is envisioneer wireless paradigms'},\n",
       "  {'user_id': 'sy2938@columbia.edu',\n",
       "   'detail': 'I have question regarding to What is deploy distributed e-commerce, can anyone help?',\n",
       "   'created_at': Decimal('1617904800'),\n",
       "   'question_id': '6dc98d16-9908-11eb-8788-acde48001122',\n",
       "   'question_status': 'confirmed',\n",
       "   'start_time': '2021-04-11T09:00:00',\n",
       "   'tutor_id': 'aaronpena@hotmail.com',\n",
       "   'end_time': '2021-04-11T10:00:00',\n",
       "   'tags': [],\n",
       "   'title': 'What is deploy distributed e-commerce'}],\n",
       " 'Count': 5,\n",
       " 'ScannedCount': 5,\n",
       " 'LastEvaluatedKey': {'question_id': '6dc98d16-9908-11eb-8788-acde48001122',\n",
       "  'user_id': 'sy2938@columbia.edu',\n",
       "  'created_at': Decimal('1617904800')},\n",
       " 'ResponseMetadata': {'RequestId': 'I16ROE77URIMIROGJ9TR4R2FIFVV4KQNSO5AEMVJF66Q9ASUAAJG',\n",
       "  'HTTPStatusCode': 200,\n",
       "  'HTTPHeaders': {'server': 'Server',\n",
       "   'date': 'Fri, 09 Apr 2021 08:00:14 GMT',\n",
       "   'content-type': 'application/x-amz-json-1.0',\n",
       "   'content-length': '2431',\n",
       "   'connection': 'keep-alive',\n",
       "   'x-amzn-requestid': 'I16ROE77URIMIROGJ9TR4R2FIFVV4KQNSO5AEMVJF66Q9ASUAAJG',\n",
       "   'x-amz-crc32': '25061547'},\n",
       "  'RetryAttempts': 0}}"
      ]
     },
     "execution_count": 89,
     "metadata": {},
     "output_type": "execute_result"
    }
   ],
   "source": [
    "query"
   ]
  },
  {
   "cell_type": "code",
   "execution_count": 119,
   "metadata": {
    "ExecuteTime": {
     "end_time": "2021-04-09T08:17:04.837242Z",
     "start_time": "2021-04-09T08:17:04.810206Z"
    }
   },
   "outputs": [],
   "source": []
  },
  {
   "cell_type": "code",
   "execution_count": 123,
   "metadata": {
    "ExecuteTime": {
     "end_time": "2021-04-09T08:38:25.030820Z",
     "start_time": "2021-04-09T08:38:25.009176Z"
    }
   },
   "outputs": [],
   "source": [
    "import json\n",
    "import boto3\n",
    "from decimal import Decimal\n",
    "from boto3.dynamodb.conditions import Key, Attr, And, Not, Or\n",
    "dynamodb = boto3.resource('dynamodb')\n",
    "user_table = 'user-profile'\n",
    "question_table = dynamodb.Table('question')\n",
    "def lambda_handler(event, context):\n",
    "    is_ask = event['headers']['is_ask']\n",
    "    last_key = None\n",
    "    access_token = event['headers']['access_token']\n",
    "    try:\n",
    "        resp = cognito.get_user(\n",
    "            AccessToken=access_token,\n",
    "        )\n",
    "    except:\n",
    "        return {\n",
    "            'statusCode': 500,\n",
    "            'body': json.dumps('Error in your login'),\n",
    "            \"headers\": {\n",
    "            'Content-Type':  'application/json',\n",
    "            \"Access-Control-Allow-Origin\": \"*\",\n",
    "            \"Access-Control-Allow-Headers\": \"*\"\n",
    "            }\n",
    "        }\n",
    "    user = {i['Name']:i['Value'] for i in resp['UserAttributes']}\n",
    "    user_id = user['email']\n",
    "\n",
    "\n",
    "    if  event['headers']['last_key'] != 'null':\n",
    "        last_key = json.loads(event['headers']['last_key'])\n",
    "        last_key['created_at'] = Decimal(last_key['created_at'])\n",
    "    \n",
    "    \n",
    "    if is_ask == 'true':\n",
    "        if last_key:\n",
    "            query = question_table.query(\n",
    "                    Limit = 10,\n",
    "                    ExclusiveStartKey=last_key,\n",
    "                     IndexName=\"user_id\",\n",
    "                    KeyConditionExpression=Key('user_id').eq(user_id)\n",
    "                )\n",
    "        else:\n",
    "            query = question_table.query(\n",
    "                    Limit = 10,\n",
    "                     IndexName=\"user_id\",\n",
    "                    KeyConditionExpression=Key('user_id').eq(user_id)\n",
    "                )\n",
    "    else:\n",
    "        if last_key:\n",
    "            query = question_table.query(\n",
    "                    Limit = 10,\n",
    "                    ExclusiveStartKey=last_key,\n",
    "                     IndexName=\"tutor_id\",\n",
    "                    KeyConditionExpression=Key('tutor_id').eq(user_id)\n",
    "                )\n",
    "        else:\n",
    "            query = question_table.query(\n",
    "                    Limit = 10,\n",
    "                     IndexName=\"tutor_id\",\n",
    "                    KeyConditionExpression=Key('tutor_id').eq(user_id)\n",
    "                )\n",
    "    data = query.get('Items')\n",
    "    if not data:\n",
    "        return {\n",
    "            'statusCode': 200,\n",
    "            'body': json.dumps({\n",
    "                        'data': []\n",
    "                    }),\n",
    "            \"headers\": {\n",
    "            'Content-Type':  'application/json',\n",
    "            \"Access-Control-Allow-Origin\": \"*\",\n",
    "            \"Access-Control-Allow-Headers\": \"*\"\n",
    "            }\n",
    "        }\n",
    "    \n",
    "    if len(data)!=0:\n",
    "        user_ids = [i['user_id']for i in query['Items']] + [i['tutor_id']for i in query['Items'] if i['tutor_id'] !='Null']\n",
    "        result = {i:{} for i in set(user_ids)}\n",
    "        response = dynamodb.batch_get_item(\n",
    "            RequestItems={\n",
    "                user_table:{\n",
    "                    \"Keys\": [{'user_id': user_id} for user_id in set(user_ids)],\n",
    "                    'AttributesToGet': ['picture', 'first_name', 'last_name']\n",
    "                }\n",
    "            }\n",
    "        )['Responses'][user_table]\n",
    "        for email, res in zip(result, response):\n",
    "            result[email] = res\n",
    "    for d in data:\n",
    "        d['created_at'] = int(d['created_at'])\n",
    "        d['user_picture'] = result[d['user_id']]['picture']\n",
    "        d['user'] = result[d['user_id']]['first_name'] + ' ' + result[d['user_id']]['last_name']\n",
    "        d['status'] = d['question_status']\n",
    "        if d['tutor_id'] != 'Null':\n",
    "            d['tutor_picture'] = result[d['tutor_id']]['picture']\n",
    "            d['tutor'] = result[d['tutor_id']]['first_name'] + ' ' + result[d['tutor_id']]['last_name']\n",
    "        else:\n",
    "            d['tutor_id'] = None\n",
    "            d['tutor_picture'] = None\n",
    "            d['tutor'] = None\n",
    "        d.pop('question_status', None)\n",
    "        if 'tags' not in d:\n",
    "            d['tags'] = []\n",
    "\n",
    "    if 'LastEvaluatedKey' in query:\n",
    "        last_key = query['LastEvaluatedKey']\n",
    "        last_key['created_at'] = int(last_key['created_at'])\n",
    "        body = {\n",
    "            'data': data,\n",
    "            'LastEvaluatedKey': last_key\n",
    "        }\n",
    "    else:\n",
    "        body = {\n",
    "            'data': data\n",
    "        }\n",
    "    return {\n",
    "        'statusCode': 200,\n",
    "        'body': json.dumps(body),\n",
    "        \"headers\": {\n",
    "        'Content-Type':  'application/json',\n",
    "        \"Access-Control-Allow-Origin\": \"*\",\n",
    "        \"Access-Control-Allow-Headers\": \"*\"\n",
    "        }\n",
    "    }"
   ]
  },
  {
   "cell_type": "code",
   "execution_count": 124,
   "metadata": {
    "ExecuteTime": {
     "end_time": "2021-04-09T08:38:37.945075Z",
     "start_time": "2021-04-09T08:38:37.937158Z"
    }
   },
   "outputs": [],
   "source": [
    "event = {'resource': '/user/history', 'path': '/user/history', 'httpMethod': 'GET', 'headers': {'accept': '*/*', 'accept-encoding': 'gzip, deflate, br', 'accept-language': 'zh,en-US;q=0.9,en;q=0.8', 'access-control-allow-credentials': 'true', 'access-control-allow-headers': '*', 'access-control-allow-methods': 'GET', 'access-control-allow-origin': '*', 'access_token': 'eyJraWQiOiJFa3lrc1p4c0IzSDVtaDV0VkgzZ1M2VGlVNnVRXC9KbTNkZUd2U3F1WlNvcz0iLCJhbGciOiJSUzI1NiJ9.eyJzdWIiOiJkYWU5M2ZmZC05OWQ5LTRkYzMtOGI3NS1kMzAxMWVhZTc3MmMiLCJ0b2tlbl91c2UiOiJhY2Nlc3MiLCJzY29wZSI6ImF3cy5jb2duaXRvLnNpZ25pbi51c2VyLmFkbWluIHBob25lIG9wZW5pZCBwcm9maWxlIGVtYWlsIiwiYXV0aF90aW1lIjoxNjE3OTU2NzU0LCJpc3MiOiJodHRwczpcL1wvY29nbml0by1pZHAudXMtZWFzdC0xLmFtYXpvbmF3cy5jb21cL3VzLWVhc3QtMV9VSzZzTERENVUiLCJleHAiOjE2MTc5NjAzNTQsImlhdCI6MTYxNzk1Njc1NCwidmVyc2lvbiI6MiwianRpIjoiMGQwOGFhYTEtNWQ4Yy00MDdhLWI3MTAtMmVmYTE4ZGUyZjdhIiwiY2xpZW50X2lkIjoiMWQxbWIya3RmYXA5OGhnaWYxaWlnamI5ZmsiLCJ1c2VybmFtZSI6Ikdvb2dsZV8xMDg0MDE3NzIzNDMxNzEyODk0MzAifQ.t4ShihsVjgOEWtkXguCng0kbClA0di1HwOWijAzYhnZbyYBQl0WdGd1zUolkPmTf9yfkEcy5rexghn7Bw7pQTn12BD5848mutKQ0d3NspZ5fVZneVfcqXyxBqqNfFpQp5zLBSmyHNrJ6TNey3gSTqHc5e9_8pCUsCpWQ66drMhlstOCH9rYIjV-tjP6TCD3OBadCvzyvKGOfEP9gU388XrtncJFk-RlzoBw6ItJgbptLLJ6ZXvmMVtDSF_Khd3e6SbZYhFmIOVV-drs3WGPqhJ_M75NQzIz3MKzJQfucnSl5YCvr2kHepr1zi5NBQFAEm--E2fv4F2JkGW0b9GmUmw', 'content-type': 'application/json', 'Host': 'gr73qrcwnl.execute-api.us-east-1.amazonaws.com', 'is_ask': 'true', 'origin': 'http://localhost:3000', 'referer': 'http://localhost:3000/', 'sec-fetch-dest': 'empty', 'sec-fetch-mode': 'cors', 'sec-fetch-site': 'cross-site', 'sec-gpc': '1', 'token': 'eyJraWQiOiJ2cGJhcTR1R082R0RTYjRwUncwVEZnOXJDWjIyMittdkZHejFtRkRReVBJPSIsImFsZyI6IlJTMjU2In0.eyJhdF9oYXNoIjoiMFVkMExRVVAtcDAzY1NwWGZ4Y0dDZyIsInN1YiI6ImRhZTkzZmZkLTk5ZDktNGRjMy04Yjc1LWQzMDExZWFlNzcyYyIsImVtYWlsX3ZlcmlmaWVkIjpmYWxzZSwiaXNzIjoiaHR0cHM6XC9cL2NvZ25pdG8taWRwLnVzLWVhc3QtMS5hbWF6b25hd3MuY29tXC91cy1lYXN0LTFfVUs2c0xERDVVIiwiY29nbml0bzp1c2VybmFtZSI6Ikdvb2dsZV8xMDg0MDE3NzIzNDMxNzEyODk0MzAiLCJnaXZlbl9uYW1lIjoiSmFja2llIiwicGljdHVyZSI6Imh0dHBzOlwvXC9saDUuZ29vZ2xldXNlcmNvbnRlbnQuY29tXC8tVkZfY0t5Zm13OUVcL0FBQUFBQUFBQUFJXC9BQUFBQUFBQUFEOFwvQU1adXVjbHVNTzZWQS1HZG1LTU1sQWNhS24tR2VJZkZCd1wvczk2LWNcL3Bob3RvLmpwZyIsImF1ZCI6IjFkMW1iMmt0ZmFwOThoZ2lmMWlpZ2piOWZrIiwiaWRlbnRpdGllcyI6W3sidXNlcklkIjoiMTA4NDAxNzcyMzQzMTcxMjg5NDMwIiwicHJvdmlkZXJOYW1lIjoiR29vZ2xlIiwicHJvdmlkZXJUeXBlIjoiR29vZ2xlIiwiaXNzdWVyIjpudWxsLCJwcmltYXJ5IjoidHJ1ZSIsImRhdGVDcmVhdGVkIjoiMTYxNzA4NDE3NzYxNSJ9XSwidG9rZW5fdXNlIjoiaWQiLCJhdXRoX3RpbWUiOjE2MTc5NTY3NTQsImV4cCI6MTYxNzk2MDM1NCwiaWF0IjoxNjE3OTU2NzU0LCJmYW1pbHlfbmFtZSI6Ill1YW4iLCJlbWFpbCI6InN5MjkzOEBjb2x1bWJpYS5lZHUifQ.DR_thleo2E7OvIAG1bXHxEwjzqmPuIvVhfR73exLN20U9PljJJ9kvjfiZY82-8AMTKnJHpAO-d0KkTPJWdEv9ZABJVHiLTsrUnUohwenQbD59FmjJ5VL1fWBfLGYb9CvQsQihI5JtU0MwyGTOjE8vy0YgRBfob-no-HZK0zg9Wm5qgpJHdiWJzbKd19kjCICCVUzKC64888KX650Fy7TINh1o8nYmovFevD27lfRRGDw1oWschT4F6koslisbx2eGAAYZOwl3DNh6iAhbbdmJ_cUbP9sCCPWnMYKRun-bnb5sGUxvlL1Z6VfvyN39qS0jcffm8Pup4hpeCpKrDhfxw', 'User-Agent': 'Mozilla/5.0 (Macintosh; Intel Mac OS X 11_2_3) AppleWebKit/537.36 (KHTML, like Gecko) Chrome/89.0.4389.114 Safari/537.36', 'X-Amzn-Trace-Id': 'Root=1-60700f96-0ed0394d52ef733502b77e98', 'X-Forwarded-For': '100.33.115.103', 'X-Forwarded-Port': '443', 'X-Forwarded-Proto': 'https'}, 'multiValueHeaders': {'accept': ['*/*'], 'accept-encoding': ['gzip, deflate, br'], 'accept-language': ['zh,en-US;q=0.9,en;q=0.8'], 'access-control-allow-credentials': ['true'], 'access-control-allow-headers': ['*'], 'access-control-allow-methods': ['GET'], 'access-control-allow-origin': ['*'], 'access_token': ['eyJraWQiOiJFa3lrc1p4c0IzSDVtaDV0VkgzZ1M2VGlVNnVRXC9KbTNkZUd2U3F1WlNvcz0iLCJhbGciOiJSUzI1NiJ9.eyJzdWIiOiJkYWU5M2ZmZC05OWQ5LTRkYzMtOGI3NS1kMzAxMWVhZTc3MmMiLCJ0b2tlbl91c2UiOiJhY2Nlc3MiLCJzY29wZSI6ImF3cy5jb2duaXRvLnNpZ25pbi51c2VyLmFkbWluIHBob25lIG9wZW5pZCBwcm9maWxlIGVtYWlsIiwiYXV0aF90aW1lIjoxNjE3OTU2NzU0LCJpc3MiOiJodHRwczpcL1wvY29nbml0by1pZHAudXMtZWFzdC0xLmFtYXpvbmF3cy5jb21cL3VzLWVhc3QtMV9VSzZzTERENVUiLCJleHAiOjE2MTc5NjAzNTQsImlhdCI6MTYxNzk1Njc1NCwidmVyc2lvbiI6MiwianRpIjoiMGQwOGFhYTEtNWQ4Yy00MDdhLWI3MTAtMmVmYTE4ZGUyZjdhIiwiY2xpZW50X2lkIjoiMWQxbWIya3RmYXA5OGhnaWYxaWlnamI5ZmsiLCJ1c2VybmFtZSI6Ikdvb2dsZV8xMDg0MDE3NzIzNDMxNzEyODk0MzAifQ.t4ShihsVjgOEWtkXguCng0kbClA0di1HwOWijAzYhnZbyYBQl0WdGd1zUolkPmTf9yfkEcy5rexghn7Bw7pQTn12BD5848mutKQ0d3NspZ5fVZneVfcqXyxBqqNfFpQp5zLBSmyHNrJ6TNey3gSTqHc5e9_8pCUsCpWQ66drMhlstOCH9rYIjV-tjP6TCD3OBadCvzyvKGOfEP9gU388XrtncJFk-RlzoBw6ItJgbptLLJ6ZXvmMVtDSF_Khd3e6SbZYhFmIOVV-drs3WGPqhJ_M75NQzIz3MKzJQfucnSl5YCvr2kHepr1zi5NBQFAEm--E2fv4F2JkGW0b9GmUmw'], 'content-type': ['application/json'], 'Host': ['gr73qrcwnl.execute-api.us-east-1.amazonaws.com'], 'is_ask': ['true'], 'origin': ['http://localhost:3000'], 'referer': ['http://localhost:3000/'], 'sec-fetch-dest': ['empty'], 'sec-fetch-mode': ['cors'], 'sec-fetch-site': ['cross-site'], 'sec-gpc': ['1'], 'token': ['eyJraWQiOiJ2cGJhcTR1R082R0RTYjRwUncwVEZnOXJDWjIyMittdkZHejFtRkRReVBJPSIsImFsZyI6IlJTMjU2In0.eyJhdF9oYXNoIjoiMFVkMExRVVAtcDAzY1NwWGZ4Y0dDZyIsInN1YiI6ImRhZTkzZmZkLTk5ZDktNGRjMy04Yjc1LWQzMDExZWFlNzcyYyIsImVtYWlsX3ZlcmlmaWVkIjpmYWxzZSwiaXNzIjoiaHR0cHM6XC9cL2NvZ25pdG8taWRwLnVzLWVhc3QtMS5hbWF6b25hd3MuY29tXC91cy1lYXN0LTFfVUs2c0xERDVVIiwiY29nbml0bzp1c2VybmFtZSI6Ikdvb2dsZV8xMDg0MDE3NzIzNDMxNzEyODk0MzAiLCJnaXZlbl9uYW1lIjoiSmFja2llIiwicGljdHVyZSI6Imh0dHBzOlwvXC9saDUuZ29vZ2xldXNlcmNvbnRlbnQuY29tXC8tVkZfY0t5Zm13OUVcL0FBQUFBQUFBQUFJXC9BQUFBQUFBQUFEOFwvQU1adXVjbHVNTzZWQS1HZG1LTU1sQWNhS24tR2VJZkZCd1wvczk2LWNcL3Bob3RvLmpwZyIsImF1ZCI6IjFkMW1iMmt0ZmFwOThoZ2lmMWlpZ2piOWZrIiwiaWRlbnRpdGllcyI6W3sidXNlcklkIjoiMTA4NDAxNzcyMzQzMTcxMjg5NDMwIiwicHJvdmlkZXJOYW1lIjoiR29vZ2xlIiwicHJvdmlkZXJUeXBlIjoiR29vZ2xlIiwiaXNzdWVyIjpudWxsLCJwcmltYXJ5IjoidHJ1ZSIsImRhdGVDcmVhdGVkIjoiMTYxNzA4NDE3NzYxNSJ9XSwidG9rZW5fdXNlIjoiaWQiLCJhdXRoX3RpbWUiOjE2MTc5NTY3NTQsImV4cCI6MTYxNzk2MDM1NCwiaWF0IjoxNjE3OTU2NzU0LCJmYW1pbHlfbmFtZSI6Ill1YW4iLCJlbWFpbCI6InN5MjkzOEBjb2x1bWJpYS5lZHUifQ.DR_thleo2E7OvIAG1bXHxEwjzqmPuIvVhfR73exLN20U9PljJJ9kvjfiZY82-8AMTKnJHpAO-d0KkTPJWdEv9ZABJVHiLTsrUnUohwenQbD59FmjJ5VL1fWBfLGYb9CvQsQihI5JtU0MwyGTOjE8vy0YgRBfob-no-HZK0zg9Wm5qgpJHdiWJzbKd19kjCICCVUzKC64888KX650Fy7TINh1o8nYmovFevD27lfRRGDw1oWschT4F6koslisbx2eGAAYZOwl3DNh6iAhbbdmJ_cUbP9sCCPWnMYKRun-bnb5sGUxvlL1Z6VfvyN39qS0jcffm8Pup4hpeCpKrDhfxw'], 'User-Agent': ['Mozilla/5.0 (Macintosh; Intel Mac OS X 11_2_3) AppleWebKit/537.36 (KHTML, like Gecko) Chrome/89.0.4389.114 Safari/537.36'], 'X-Amzn-Trace-Id': ['Root=1-60700f96-0ed0394d52ef733502b77e98'], 'X-Forwarded-For': ['100.33.115.103'], 'X-Forwarded-Port': ['443'], 'X-Forwarded-Proto': ['https']}, 'queryStringParameters': None, 'multiValueQueryStringParameters': None, 'pathParameters': None, 'stageVariables': None, 'requestContext': {'resourceId': 'tbw6vx', 'resourcePath': '/user/history', 'httpMethod': 'GET', 'extendedRequestId': 'dgdfhED8oAMFetg=', 'requestTime': '09/Apr/2021:08:25:58 +0000', 'path': '/v1/user/history', 'accountId': '387645926509', 'protocol': 'HTTP/1.1', 'stage': 'v1', 'domainPrefix': 'gr73qrcwnl', 'requestTimeEpoch': 1617956758494, 'requestId': 'a1620ec2-b052-4317-bd6b-6142f9ce763f', 'identity': {'cognitoIdentityPoolId': None, 'accountId': None, 'cognitoIdentityId': None, 'caller': None, 'sourceIp': '100.33.115.103', 'principalOrgId': None, 'accessKey': None, 'cognitoAuthenticationType': None, 'cognitoAuthenticationProvider': None, 'userArn': None, 'userAgent': 'Mozilla/5.0 (Macintosh; Intel Mac OS X 11_2_3) AppleWebKit/537.36 (KHTML, like Gecko) Chrome/89.0.4389.114 Safari/537.36', 'user': None}, 'domainName': 'gr73qrcwnl.execute-api.us-east-1.amazonaws.com', 'apiId': 'gr73qrcwnl'}, 'body': None, 'isBase64Encoded': False}\n"
   ]
  },
  {
   "cell_type": "code",
   "execution_count": 128,
   "metadata": {
    "ExecuteTime": {
     "end_time": "2021-04-09T08:39:25.624054Z",
     "start_time": "2021-04-09T08:39:25.621735Z"
    }
   },
   "outputs": [],
   "source": [
    "access_token = event['headers']['access_token']"
   ]
  },
  {
   "cell_type": "code",
   "execution_count": 129,
   "metadata": {
    "ExecuteTime": {
     "end_time": "2021-04-09T08:39:25.998161Z",
     "start_time": "2021-04-09T08:39:25.992970Z"
    }
   },
   "outputs": [
    {
     "ename": "NameError",
     "evalue": "name 'cognito' is not defined",
     "output_type": "error",
     "traceback": [
      "\u001b[0;31m---------------------------------------------------------------------------\u001b[0m",
      "\u001b[0;31mNameError\u001b[0m                                 Traceback (most recent call last)",
      "\u001b[0;32m<ipython-input-129-8327aac5d7ff>\u001b[0m in \u001b[0;36m<module>\u001b[0;34m\u001b[0m\n\u001b[0;32m----> 1\u001b[0;31m resp = cognito.get_user(\n\u001b[0m\u001b[1;32m      2\u001b[0m             \u001b[0mAccessToken\u001b[0m\u001b[0;34m=\u001b[0m\u001b[0maccess_token\u001b[0m\u001b[0;34m,\u001b[0m\u001b[0;34m\u001b[0m\u001b[0;34m\u001b[0m\u001b[0m\n\u001b[1;32m      3\u001b[0m         )\n",
      "\u001b[0;31mNameError\u001b[0m: name 'cognito' is not defined"
     ]
    }
   ],
   "source": [
    "resp = cognito.get_user(\n",
    "            AccessToken=access_token,\n",
    "        )"
   ]
  },
  {
   "cell_type": "code",
   "execution_count": 152,
   "metadata": {
    "ExecuteTime": {
     "end_time": "2021-04-09T09:00:22.344430Z",
     "start_time": "2021-04-09T09:00:22.335605Z"
    }
   },
   "outputs": [],
   "source": [
    "data = [{'user_id': 'sy2938@columbia.edu', 'detail': 'I have question regarding to What is productize sticky markets, can anyone help?', 'created_at': Decimal('1618398000'), 'question_id': '6dc97eb6-9908-11eb-8788-acde48001122', 'question_status': 'accepted', 'start_time': '2021-04-16T19:00:00', 'tutor_id': 'montgomerycatherine@lewis.com', 'end_time': '2021-04-16T22:00:00', 'tags': ['Data Science'], 'title': 'What is productize sticky markets'}, {'user_id': 'sy2938@columbia.edu', 'detail': 'I have question regarding to What is revolutionize 24/365 paradigms, can anyone help?', 'created_at': Decimal('1617814380'), 'attachment': 'http://www.harper-hammond.com/', 'question_id': '6dc90bfc-9908-11eb-8788-acde48001122', 'question_status': 'posted', 'start_time': 'Null', 'tutor_id': 'Null', 'end_time': 'Null', 'tags': ['Chinese'], 'title': 'What is revolutionize 24/365 paradigms'}, {'user_id': 'sy2938@columbia.edu', 'detail': 'I have question regarding to What is mesh efficient eyeballs, can anyone help?', 'created_at': Decimal('1617909960'), 'question_id': '6dc98fc8-9908-11eb-8788-acde48001122', 'question_status': 'posted', 'start_time': 'Null', 'tutor_id': 'Null', 'end_time': 'Null', 'tags': [], 'title': 'What is mesh efficient eyeballs'}, {'user_id': 'sy2938@columbia.edu', 'detail': 'I have question regarding to What is envisioneer wireless paradigms, can anyone help?', 'created_at': Decimal('1618852560'), 'question_id': '6dc99a4a-9908-11eb-8788-acde48001122', 'question_status': 'posted', 'start_time': 'Null', 'tutor_id': 'Null', 'end_time': 'Null', 'tags': ['Chinese'], 'title': 'What is envisioneer wireless paradigms'}, {'user_id': 'sy2938@columbia.edu', 'detail': 'I have question regarding to What is deploy distributed e-commerce, can anyone help?', 'created_at': Decimal('1617904800'), 'question_id': '6dc98d16-9908-11eb-8788-acde48001122', 'question_status': 'confirmed', 'start_time': '2021-04-11T09:00:00', 'tutor_id': 'aaronpena@hotmail.com', 'end_time': '2021-04-11T10:00:00', 'tags': [], 'title': 'What is deploy distributed e-commerce'}, {'user_id': 'sy2938@columbia.edu', 'detail': 'I have question regarding to What is engineer plug-and-play partnerships, can anyone help?', 'created_at': Decimal('1617633300'), 'question_id': '6dc939ba-9908-11eb-8788-acde48001122', 'question_status': 'posted', 'start_time': 'Null', 'tutor_id': 'Null', 'end_time': 'Null', 'tags': ['Data Science'], 'title': 'What is engineer plug-and-play partnerships'}, {'user_id': 'sy2938@columbia.edu', 'detail': 'I have question regarding to What is whiteboard visionary info-mediaries, can anyone help?', 'created_at': Decimal('1619133960'), 'attachment': 'https://edwards.com/', 'question_id': '6dc97600-9908-11eb-8788-acde48001122', 'question_status': 'posted', 'start_time': 'Null', 'tutor_id': 'Null', 'end_time': 'Null', 'tags': [], 'title': 'What is whiteboard visionary info-mediaries'}, {'user_id': 'sy2938@columbia.edu', 'detail': 'I have question regarding to What is harness scalable infrastructures, can anyone help?', 'created_at': Decimal('1618023600'), 'attachment': 'http://www.hernandez.biz/', 'question_id': '6dc9317c-9908-11eb-8788-acde48001122', 'question_status': 'accepted', 'start_time': '2021-04-11T18:00:00', 'tutor_id': 'rachel81@west.com', 'end_time': '2021-04-11T21:00:00', 'tags': ['Chinese'], 'title': 'What is harness scalable infrastructures'}, {'user_id': 'sy2938@columbia.edu', 'detail': 'I have question regarding to What is synthesize bleeding-edge solutions, can anyone help?', 'created_at': Decimal('1617543900'), 'question_id': '6dc9607a-9908-11eb-8788-acde48001122', 'question_status': 'posted', 'start_time': 'Null', 'tutor_id': 'Null', 'end_time': 'Null', 'tags': ['Chinese'], 'title': 'What is synthesize bleeding-edge solutions'}, {'user_id': 'sy2938@columbia.edu', 'detail': 'I have question regarding to What is morph B2B applications, can anyone help?', 'created_at': Decimal('1618683720'), 'attachment': 'http://www.rasmussen.com/', 'question_id': '6dc9cfe2-9908-11eb-8788-acde48001122', 'question_status': 'posted', 'start_time': 'Null', 'tutor_id': 'Null', 'end_time': 'Null', 'tags': ['Data Science'], 'title': 'What is morph B2B applications'}]\n"
   ]
  },
  {
   "cell_type": "code",
   "execution_count": 154,
   "metadata": {
    "ExecuteTime": {
     "end_time": "2021-04-09T09:00:47.194622Z",
     "start_time": "2021-04-09T09:00:47.191671Z"
    }
   },
   "outputs": [],
   "source": [
    "user_ids = [i['user_id'] for i in data] + [i['tutor_id'] for i in data if i['tutor_id'] !='Null']"
   ]
  },
  {
   "cell_type": "code",
   "execution_count": 156,
   "metadata": {
    "ExecuteTime": {
     "end_time": "2021-04-09T09:01:08.673716Z",
     "start_time": "2021-04-09T09:01:08.671064Z"
    }
   },
   "outputs": [],
   "source": [
    "result = {i:{} for i in set(user_ids)}"
   ]
  },
  {
   "cell_type": "code",
   "execution_count": 161,
   "metadata": {
    "ExecuteTime": {
     "end_time": "2021-04-09T09:02:45.246876Z",
     "start_time": "2021-04-09T09:02:45.138225Z"
    }
   },
   "outputs": [],
   "source": [
    "response = dynamodb.batch_get_item(\n",
    "    RequestItems={\n",
    "        user_table:{\n",
    "            \"Keys\": [{'user_id': user_id} for user_id in set(user_ids)],\n",
    "            'AttributesToGet': ['user_id','picture', 'first_name', 'last_name']\n",
    "        }\n",
    "    }\n",
    ")['Responses'][user_table]"
   ]
  },
  {
   "cell_type": "code",
   "execution_count": 162,
   "metadata": {
    "ExecuteTime": {
     "end_time": "2021-04-09T09:02:48.458665Z",
     "start_time": "2021-04-09T09:02:48.454591Z"
    }
   },
   "outputs": [
    {
     "data": {
      "text/plain": [
       "[{'user_id': 'rachel81@west.com',\n",
       "  'last_name': 'Samoan',\n",
       "  'picture': 'https://content.fakeface.rest/male_27_6bf83ca26a2eb71858817e7373dc1bd61cee4083.jpg',\n",
       "  'first_name': 'Robert'},\n",
       " {'user_id': 'montgomerycatherine@lewis.com',\n",
       "  'last_name': 'Gujarati',\n",
       "  'picture': 'https://content.fakeface.rest/male_25_c859d9567211e0d01d9cfcd44316d02cb6729723.jpg',\n",
       "  'first_name': 'Casey'},\n",
       " {'user_id': 'aaronpena@hotmail.com',\n",
       "  'last_name': 'Japanese',\n",
       "  'picture': None,\n",
       "  'first_name': 'Karen'},\n",
       " {'user_id': 'sy2938@columbia.edu',\n",
       "  'last_name': 'Yuan',\n",
       "  'picture': 'https://content.fakeface.rest/male_20_cb646615bf253a1351b1a04c44248768d565cbff.jpg',\n",
       "  'first_name': 'Jackie'}]"
      ]
     },
     "execution_count": 162,
     "metadata": {},
     "output_type": "execute_result"
    }
   ],
   "source": [
    "response"
   ]
  },
  {
   "cell_type": "code",
   "execution_count": 146,
   "metadata": {
    "ExecuteTime": {
     "end_time": "2021-04-09T08:58:55.344740Z",
     "start_time": "2021-04-09T08:58:55.335164Z"
    }
   },
   "outputs": [
    {
     "ename": "KeyError",
     "evalue": "'rachel81@west.com'",
     "output_type": "error",
     "traceback": [
      "\u001b[0;31m---------------------------------------------------------------------------\u001b[0m",
      "\u001b[0;31mKeyError\u001b[0m                                  Traceback (most recent call last)",
      "\u001b[0;32m<ipython-input-146-1290e93303da>\u001b[0m in \u001b[0;36m<module>\u001b[0;34m\u001b[0m\n\u001b[1;32m      5\u001b[0m     \u001b[0md\u001b[0m\u001b[0;34m[\u001b[0m\u001b[0;34m'status'\u001b[0m\u001b[0;34m]\u001b[0m \u001b[0;34m=\u001b[0m \u001b[0md\u001b[0m\u001b[0;34m[\u001b[0m\u001b[0;34m'question_status'\u001b[0m\u001b[0;34m]\u001b[0m\u001b[0;34m\u001b[0m\u001b[0;34m\u001b[0m\u001b[0m\n\u001b[1;32m      6\u001b[0m     \u001b[0;32mif\u001b[0m \u001b[0md\u001b[0m\u001b[0;34m[\u001b[0m\u001b[0;34m'tutor_id'\u001b[0m\u001b[0;34m]\u001b[0m \u001b[0;34m!=\u001b[0m \u001b[0;34m'Null'\u001b[0m\u001b[0;34m:\u001b[0m\u001b[0;34m\u001b[0m\u001b[0;34m\u001b[0m\u001b[0m\n\u001b[0;32m----> 7\u001b[0;31m         \u001b[0md\u001b[0m\u001b[0;34m[\u001b[0m\u001b[0;34m'tutor_picture'\u001b[0m\u001b[0;34m]\u001b[0m \u001b[0;34m=\u001b[0m \u001b[0mresult\u001b[0m\u001b[0;34m[\u001b[0m\u001b[0md\u001b[0m\u001b[0;34m[\u001b[0m\u001b[0;34m'tutor_id'\u001b[0m\u001b[0;34m]\u001b[0m\u001b[0;34m]\u001b[0m\u001b[0;34m[\u001b[0m\u001b[0;34m'picture'\u001b[0m\u001b[0;34m]\u001b[0m\u001b[0;34m\u001b[0m\u001b[0;34m\u001b[0m\u001b[0m\n\u001b[0m\u001b[1;32m      8\u001b[0m         \u001b[0md\u001b[0m\u001b[0;34m[\u001b[0m\u001b[0;34m'tutor'\u001b[0m\u001b[0;34m]\u001b[0m \u001b[0;34m=\u001b[0m \u001b[0mresult\u001b[0m\u001b[0;34m[\u001b[0m\u001b[0md\u001b[0m\u001b[0;34m[\u001b[0m\u001b[0;34m'tutor_id'\u001b[0m\u001b[0;34m]\u001b[0m\u001b[0;34m]\u001b[0m\u001b[0;34m[\u001b[0m\u001b[0;34m'first_name'\u001b[0m\u001b[0;34m]\u001b[0m \u001b[0;34m+\u001b[0m \u001b[0;34m' '\u001b[0m \u001b[0;34m+\u001b[0m \u001b[0mresult\u001b[0m\u001b[0;34m[\u001b[0m\u001b[0md\u001b[0m\u001b[0;34m[\u001b[0m\u001b[0;34m'tutor_id'\u001b[0m\u001b[0;34m]\u001b[0m\u001b[0;34m]\u001b[0m\u001b[0;34m[\u001b[0m\u001b[0;34m'last_name'\u001b[0m\u001b[0;34m]\u001b[0m\u001b[0;34m\u001b[0m\u001b[0;34m\u001b[0m\u001b[0m\n\u001b[1;32m      9\u001b[0m     \u001b[0;32melse\u001b[0m\u001b[0;34m:\u001b[0m\u001b[0;34m\u001b[0m\u001b[0;34m\u001b[0m\u001b[0m\n",
      "\u001b[0;31mKeyError\u001b[0m: 'rachel81@west.com'"
     ]
    }
   ],
   "source": [
    "for d in data:\n",
    "    d['created_at'] = int(d['created_at'])\n",
    "    d['user_picture'] = result[d['user_id']]['picture']\n",
    "    d['user'] = result[d['user_id']]['first_name'] + ' ' + result[d['user_id']]['last_name']\n",
    "    d['status'] = d['question_status']\n",
    "    if d['tutor_id'] != 'Null':\n",
    "        d['tutor_picture'] = result[d['tutor_id']]['picture']\n",
    "        d['tutor'] = result[d['tutor_id']]['first_name'] + ' ' + result[d['tutor_id']]['last_name']\n",
    "    else:\n",
    "        d['tutor_id'] = None\n",
    "        d['tutor_picture'] = None\n",
    "        d['tutor'] = None\n",
    "    d.pop('question_status', None)\n",
    "    if 'tags' not in d:\n",
    "        d['tags'] = []"
   ]
  },
  {
   "cell_type": "code",
   "execution_count": null,
   "metadata": {},
   "outputs": [],
   "source": []
  }
 ],
 "metadata": {
  "kernelspec": {
   "display_name": "Python [conda env:scipy-ml]",
   "language": "python",
   "name": "conda-env-scipy-ml-py"
  },
  "language_info": {
   "codemirror_mode": {
    "name": "ipython",
    "version": 3
   },
   "file_extension": ".py",
   "mimetype": "text/x-python",
   "name": "python",
   "nbconvert_exporter": "python",
   "pygments_lexer": "ipython3",
   "version": "3.8.5"
  },
  "toc": {
   "base_numbering": 1,
   "nav_menu": {},
   "number_sections": true,
   "sideBar": true,
   "skip_h1_title": false,
   "title_cell": "Table of Contents",
   "title_sidebar": "Contents",
   "toc_cell": false,
   "toc_position": {},
   "toc_section_display": true,
   "toc_window_display": false
  }
 },
 "nbformat": 4,
 "nbformat_minor": 4
}
