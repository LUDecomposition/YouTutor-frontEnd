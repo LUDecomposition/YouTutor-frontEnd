{
 "cells": [
  {
   "cell_type": "code",
   "execution_count": 1,
   "metadata": {
    "ExecuteTime": {
     "end_time": "2021-04-09T04:55:25.648298Z",
     "start_time": "2021-04-09T04:55:25.295370Z"
    }
   },
   "outputs": [],
   "source": [
    "import requests\n",
    "import os\n",
    "from bs4 import BeautifulSoup\n",
    "from datetime import date\n",
    "import datetime\n",
    "from faker import Faker\n",
    "import random\n",
    "import boto3\n",
    "import time\n",
    "import json\n",
    "import datetime\n",
    "import uuid\n",
    "fake = Faker()\n"
   ]
  },
  {
   "cell_type": "code",
   "execution_count": 17,
   "metadata": {
    "ExecuteTime": {
     "end_time": "2021-04-09T05:03:16.791598Z",
     "start_time": "2021-04-09T05:03:16.590485Z"
    }
   },
   "outputs": [],
   "source": [
    "resp = requests.get('https://www.4icu.org/top-universities-north-america/')\n",
    "soup = BeautifulSoup(resp.text, 'html.parser')\n",
    "rows = soup.findAll('tr')\n",
    "school_list = []\n",
    "for tr in rows:\n",
    "    cols = tr.findAll('td')\n",
    "    for col in cols:\n",
    "        if col:\n",
    "            link = col.find('a')\n",
    "            if link:\n",
    "                school_list.append(link.contents[0])"
   ]
  },
  {
   "cell_type": "code",
   "execution_count": 18,
   "metadata": {
    "ExecuteTime": {
     "end_time": "2021-04-09T05:03:17.929358Z",
     "start_time": "2021-04-09T05:03:17.924666Z"
    }
   },
   "outputs": [],
   "source": [
    "path = '/Users/syeehyn/Desktop/spring2020/coms6998/final/YouTutor-frontEnd/dev'\n",
    "college_major = json.load(open(os.path.join(path, 'collage_major.json')))\n",
    "grad_major = json.load(open(os.path.join(path,'grad_major.json')))"
   ]
  },
  {
   "cell_type": "code",
   "execution_count": 19,
   "metadata": {
    "ExecuteTime": {
     "end_time": "2021-04-09T05:03:19.653245Z",
     "start_time": "2021-04-09T05:03:19.649592Z"
    }
   },
   "outputs": [],
   "source": [
    "school_list = school_list[:50]\n",
    "genders = ['F', 'M']\n",
    "degrees = ['B.S', 'B.A', 'PhD', 'M.E', 'M.F.A', 'M.S', 'M.A']\n",
    "languages = ['spanish', 'english', 'japanese', 'chinese', 'french']\n",
    "hours = range(8, 20, 1)\n",
    "IMG_API = 'https://fakeface.rest/face/json?maximum_age=29&minimum_age=18&'\n",
    "female_query = 'gender=female'\n",
    "male_query = 'gender=male'"
   ]
  },
  {
   "cell_type": "code",
   "execution_count": 257,
   "metadata": {
    "ExecuteTime": {
     "end_time": "2021-04-08T01:22:20.124557Z",
     "start_time": "2021-04-08T01:22:20.115495Z"
    }
   },
   "outputs": [],
   "source": [
    "def random_user():\n",
    "    user = {}\n",
    "    tags = []\n",
    "    user['user_id'] = fake.email()\n",
    "    user['gender'] = random.choice(genders)\n",
    "    if user['gender'] == 'F':\n",
    "        user['first_name']= fake.first_name_female()\n",
    "        if random.choice([1, 0]):\n",
    "            user['picture'] = requests.get(IMG_API+female_query).json()['image_url']\n",
    "        else:\n",
    "            user['picture'] = None\n",
    "    else:\n",
    "        user['first_name']= fake.first_name_male()\n",
    "        if random.choice([1, 0]):\n",
    "            user['picture'] = requests.get(IMG_API+male_query).json()['image_url']\n",
    "        else:\n",
    "            user['picture'] = None\n",
    "    user['last_name'] = fake.language_name()\n",
    "    user['tutor'] = random.choice([True, False])\n",
    "    user['school'] = random.choice(school_list)\n",
    "    user['degree'] = random.choice(degrees)\n",
    "    if user['degree'] in ['B.S', 'B.A']:\n",
    "        user['major'] = random.choice(college_major)\n",
    "    else:\n",
    "        user['major'] = random.choice(grad_major)\n",
    "    if random.choice([0,0,0,0,1]):\n",
    "        tags.append(user['major'])\n",
    "    if random.choice([0,0,0,0,1]):\n",
    "        tags.append(random.choice(languages))\n",
    "        if random.choice([0,0,0,0,1]):\n",
    "            tags.append(random.choice(languages))\n",
    "\n",
    "    intro = f'''Hello, I am {user['first_name']}, a {user['degree']} student major in {user['major']} from {user['school']}\n",
    "    '''.replace('\\n', '')\n",
    "\n",
    "    user['introduction'] = intro\n",
    "    user['tags'] = tags\n",
    "\n",
    "    if user['tutor']:\n",
    "        availability = []\n",
    "        for _ in range(random.randint(0, 5)):\n",
    "            time_stamp = sorted(random.choices(hours, k=2))\n",
    "            while len(set(time_stamp)) == 1:\n",
    "                time_stamp = sorted(random.choices(hours, k=2))\n",
    "            time_stamp = '-'.join([str(i)+':00' for i in time_stamp])\n",
    "            time_stamp = time_stamp + ',' + fake.day_of_week()\n",
    "            availability.append(time_stamp)\n",
    "        user['availability'] = availability\n",
    "    else:\n",
    "        user['availability'] = []\n",
    "    return json.loads(json.dumps(user))"
   ]
  },
  {
   "cell_type": "code",
   "execution_count": 258,
   "metadata": {
    "ExecuteTime": {
     "end_time": "2021-04-08T01:22:20.537996Z",
     "start_time": "2021-04-08T01:22:20.534338Z"
    },
    "scrolled": true
   },
   "outputs": [],
   "source": [
    "TABLE_NAME = 'user-profile'\n",
    "\n",
    "def create_user_table():\n",
    "    dynamodb = boto3.resource('dynamodb', region_name='us-east-1')\n",
    "    try:\n",
    "        if dynamodb.Table(TABLE_NAME).table_status == 'ACTIVE':\n",
    "            return dynamodb.Table(TABLE_NAME)\n",
    "    except:\n",
    "        pass\n",
    "    table = dynamodb.create_table(\n",
    "        TableName=TABLE_NAME,\n",
    "        KeySchema=[\n",
    "            {\n",
    "                'AttributeName': 'user_id',\n",
    "                'KeyType': 'HASH'  # Partition key\n",
    "            }\n",
    "        ],\n",
    "        AttributeDefinitions=[\n",
    "            {\n",
    "                'AttributeName': 'user_id',\n",
    "                'AttributeType': 'S'\n",
    "            }\n",
    "        ],\n",
    "        ProvisionedThroughput={\n",
    "            'ReadCapacityUnits': 10,\n",
    "            'WriteCapacityUnits': 10\n",
    "        }\n",
    "    )\n",
    "    time.sleep(5)\n",
    "    return table"
   ]
  },
  {
   "cell_type": "code",
   "execution_count": 259,
   "metadata": {
    "ExecuteTime": {
     "end_time": "2021-04-08T01:22:20.898411Z",
     "start_time": "2021-04-08T01:22:20.894273Z"
    }
   },
   "outputs": [],
   "source": [
    "def generate_users(const):\n",
    "    users = []\n",
    "    for _ in range(const):\n",
    "        users.append(random_user())\n",
    "    return users\n",
    "def write_users(table, users):\n",
    "    with table.batch_writer() as batch:\n",
    "        for user in users:\n",
    "            batch.put_item(\n",
    "                Item={\n",
    "                    'user_id': user['user_id'],\n",
    "                    'gender': user['gender'],\n",
    "                    'first_name' : user['first_name'],\n",
    "                    'last_name': user['last_name'],\n",
    "                    'tutor': user['tutor'],\n",
    "                    'school': user['school'],\n",
    "                    'degree': user['degree'],\n",
    "                    'major': user['major'],\n",
    "                    'introduction': user['introduction'],\n",
    "                    'tags': user['tags'],\n",
    "                    'availability': user['availability'],\n",
    "                    'picture': user['picture']\n",
    "                }\n",
    "            )"
   ]
  },
  {
   "cell_type": "code",
   "execution_count": 260,
   "metadata": {
    "ExecuteTime": {
     "end_time": "2021-04-08T01:22:38.783076Z",
     "start_time": "2021-04-08T01:22:21.344712Z"
    },
    "scrolled": true
   },
   "outputs": [],
   "source": [
    "CONST = 100\n",
    "table = create_user_table()\n",
    "users = generate_users(CONST)\n",
    "write_users(table, users)"
   ]
  },
  {
   "cell_type": "code",
   "execution_count": 262,
   "metadata": {
    "ExecuteTime": {
     "end_time": "2021-04-08T01:23:19.749272Z",
     "start_time": "2021-04-08T01:23:19.744499Z"
    }
   },
   "outputs": [],
   "source": [
    "with open('users.json', 'w') as f:\n",
    "    json.dump(users, f)"
   ]
  },
  {
   "cell_type": "code",
   "execution_count": 3,
   "metadata": {
    "ExecuteTime": {
     "end_time": "2021-04-09T04:55:31.464011Z",
     "start_time": "2021-04-09T04:55:31.460867Z"
    }
   },
   "outputs": [],
   "source": [
    "myself = {\n",
    "    'user_id': 'sy2938@columbia.edu',\n",
    "    'gender': 'M',\n",
    "    'first_name' : 'Jackie',\n",
    "    'last_name': 'Yuan',\n",
    "    'tutor': True,\n",
    "    'school': 'Columbia University',\n",
    "    'degree': 'M.S',\n",
    "    'major': 'Data Science',\n",
    "    'introduction': 'Hello, I am Jackie, a M.S student major in Data Science from Columbia University',\n",
    "    'tags': ['Data Science','Chinese'],\n",
    "    'availability': ['9:00-13:00,Thursday',\n",
    "                  '10:00-17:00,Monday',\n",
    "                  '12:00-13:00,Saturday',\n",
    "                  '9:00-13:00,Friday',\n",
    "                  '12:00-13:00,Sunday'],\n",
    "    'picture': 'https://content.fakeface.rest/male_20_cb646615bf253a1351b1a04c44248768d565cbff.jpg'\n",
    "}"
   ]
  },
  {
   "cell_type": "code",
   "execution_count": 268,
   "metadata": {
    "ExecuteTime": {
     "end_time": "2021-04-08T01:24:15.358533Z",
     "start_time": "2021-04-08T01:24:15.252610Z"
    }
   },
   "outputs": [
    {
     "data": {
      "text/plain": [
       "{'ResponseMetadata': {'RequestId': 'UQPS9TF2MJ8SC3AKJMUS3PKJI3VV4KQNSO5AEMVJF66Q9ASUAAJG',\n",
       "  'HTTPStatusCode': 200,\n",
       "  'HTTPHeaders': {'server': 'Server',\n",
       "   'date': 'Thu, 08 Apr 2021 01:24:15 GMT',\n",
       "   'content-type': 'application/x-amz-json-1.0',\n",
       "   'content-length': '2',\n",
       "   'connection': 'keep-alive',\n",
       "   'x-amzn-requestid': 'UQPS9TF2MJ8SC3AKJMUS3PKJI3VV4KQNSO5AEMVJF66Q9ASUAAJG',\n",
       "   'x-amz-crc32': '2745614147'},\n",
       "  'RetryAttempts': 0}}"
      ]
     },
     "execution_count": 268,
     "metadata": {},
     "output_type": "execute_result"
    }
   ],
   "source": [
    "table.put_item(\n",
    "    Item={\n",
    "        'user_id': 'sy2938@columbia.edu',\n",
    "        'gender': 'M',\n",
    "        'first_name' : 'Jackie',\n",
    "        'last_name': 'Yuan',\n",
    "        'tutor': True,\n",
    "        'school': 'Columbia University',\n",
    "        'degree': 'M.S',\n",
    "        'major': 'Data Science',\n",
    "        'introduction': 'Hello, I am Jackie, a M.S student major in Data Science from Columbia University',\n",
    "        'tags': ['Data Science','Chinese'],\n",
    "        'availability': ['9:00-13:00,Thursday',\n",
    "                      '10:00-17:00,Monday',\n",
    "                      '12:00-13:00,Saturday',\n",
    "                      '9:00-13:00,Friday',\n",
    "                      '12:00-13:00,Sunday'],\n",
    "        'picture': 'https://content.fakeface.rest/male_20_cb646615bf253a1351b1a04c44248768d565cbff.jpg'\n",
    "    }\n",
    ")"
   ]
  },
  {
   "cell_type": "code",
   "execution_count": 4,
   "metadata": {
    "ExecuteTime": {
     "end_time": "2021-04-09T04:57:12.743244Z",
     "start_time": "2021-04-09T04:57:12.739670Z"
    }
   },
   "outputs": [],
   "source": [
    "users = json.load(open('users.json'))"
   ]
  },
  {
   "cell_type": "code",
   "execution_count": 40,
   "metadata": {
    "ExecuteTime": {
     "end_time": "2021-04-09T05:32:08.102929Z",
     "start_time": "2021-04-09T05:32:08.094575Z"
    }
   },
   "outputs": [],
   "source": [
    "def random_question(user, tutor=None):\n",
    "    question = {}\n",
    "    question['question_id'] = str(uuid.uuid1())\n",
    "    question['user_id'] = user['user_id']\n",
    "    \n",
    "    title = f'What is {fake.bs()}'\n",
    "    question['title'] = title\n",
    "    question['detail'] = f'I have question regarding to {title}, can anyone help?'\n",
    "    if user['tags'] != []:\n",
    "        tags = random.choices(user['tags'], k=random.choice(range(len(user['tags']))))\n",
    "    else:\n",
    "        tags = []\n",
    "    question['tags'] = tags\n",
    "    if random.choice([1,0]):\n",
    "        question['attachment'] = fake.url()\n",
    "    if tutor:\n",
    "        question['tutor_id'] = tutor['user_id']\n",
    "        question['question_status'] = random.choice(['accepted', 'confirmed'])\n",
    "        date, hour, length = random.choice(range(5, 30)), random.choice(hours), random.choice(range(1, 4))\n",
    "        question['start_time'] = datetime.datetime(2021, 4, \n",
    "                        date, hour , 0).isoformat()\n",
    "        question['end_time'] = datetime.datetime(2021, 4, \n",
    "                        date, hour+length , 0).isoformat()\n",
    "        question['created_at'] = datetime.datetime(2021, 4, \n",
    "                                                    date - random.choice(range(1,5)), \n",
    "                                                   random.choice(range(0, 24)) , 0).isoformat()\n",
    "        \n",
    "    else:\n",
    "        question['tutor_id'] = 'Null'\n",
    "        question['question_status'] = random.choice(['posted', 'posted', 'posted', 'posted', 'canceled'])\n",
    "        question['start_time'] = 'Null'\n",
    "        question['end_time'] = 'Null'\n",
    "        question['created_at'] = datetime.datetime(2021, 4, \n",
    "                                random.choice(range(1,30)), \n",
    "                               random.choice(range(0, 24)) , random.choice(range(0, 61))).isoformat()\n",
    "    \n",
    "    \n",
    "    return json.loads(json.dumps(question))"
   ]
  },
  {
   "cell_type": "code",
   "execution_count": 41,
   "metadata": {
    "ExecuteTime": {
     "end_time": "2021-04-09T05:32:11.537520Z",
     "start_time": "2021-04-09T05:32:11.529934Z"
    }
   },
   "outputs": [],
   "source": [
    "Q_TABLE_NAME = 'question'\n",
    "def create_question_table():\n",
    "    dynamodb = boto3.resource('dynamodb', region_name='us-east-1')\n",
    "    try:\n",
    "        if dynamodb.Table(Q_TABLE_NAME).table_status == 'ACTIVE':\n",
    "            return dynamodb.Table(Q_TABLE_NAME)\n",
    "    except:\n",
    "        pass\n",
    "    table = dynamodb.create_table(\n",
    "        TableName=Q_TABLE_NAME,\n",
    "        KeySchema=[\n",
    "            {\n",
    "                'AttributeName': 'question_id',\n",
    "                'KeyType': 'HASH'  # Partition key\n",
    "                'AttributeName': 'create_at',\n",
    "                'KeyType': 'HASH'\n",
    "            }\n",
    "        ],\n",
    "        AttributeDefinitions=[\n",
    "            {\n",
    "                'AttributeName': 'question_id',\n",
    "                'AttributeType': 'S'\n",
    "            },\n",
    "            {\n",
    "                'AttributeName': 'user_id',\n",
    "                'AttributeType': 'S'\n",
    "            },\n",
    "            {\n",
    "                'AttributeName': 'tutor_id',\n",
    "                'AttributeType': 'S'\n",
    "            },\n",
    "            {\n",
    "                'AttributeName': 'create_at',\n",
    "                'AttributeType': 'S'\n",
    "            },\n",
    "        ],\n",
    "        ProvisionedThroughput={\n",
    "            'ReadCapacityUnits': 10,\n",
    "            'WriteCapacityUnits': 10\n",
    "        },\n",
    "        GlobalSecondaryIndexes = [\n",
    "            {\n",
    "                'IndexName': 'user_id',\n",
    "                'KeySchema': [\n",
    "                    {\n",
    "                        'AttributeName': 'user_id',\n",
    "                        'KeyType': 'HASH'\n",
    "                    },\n",
    "                ],\n",
    "                'Projection': {\n",
    "                'ProjectionType': 'ALL'\n",
    "                },\n",
    "                'ProvisionedThroughput': {\n",
    "                'ReadCapacityUnits': 10,\n",
    "                'WriteCapacityUnits': 10\n",
    "                }\n",
    "            },\n",
    "            {\n",
    "                'IndexName': 'tutor_id',\n",
    "                'KeySchema': [\n",
    "                    {\n",
    "                        'AttributeName': 'tutor_id',\n",
    "                        'KeyType': 'HASH'\n",
    "                    },\n",
    "                ],\n",
    "                'Projection': {\n",
    "                'ProjectionType': 'ALL',\n",
    "                },\n",
    "                'ProvisionedThroughput': {\n",
    "                'ReadCapacityUnits': 10,\n",
    "                'WriteCapacityUnits': 10\n",
    "                }\n",
    "            }\n",
    "        ]\n",
    "    )\n",
    "    time.sleep(5)\n",
    "    return table"
   ]
  },
  {
   "cell_type": "code",
   "execution_count": 42,
   "metadata": {
    "ExecuteTime": {
     "end_time": "2021-04-09T05:32:14.663751Z",
     "start_time": "2021-04-09T05:32:14.558572Z"
    }
   },
   "outputs": [],
   "source": [
    "table = create_question_table()"
   ]
  },
  {
   "cell_type": "code",
   "execution_count": 43,
   "metadata": {
    "ExecuteTime": {
     "end_time": "2021-04-09T05:32:21.204298Z",
     "start_time": "2021-04-09T05:32:21.189967Z"
    }
   },
   "outputs": [],
   "source": [
    "CONST = 25\n",
    "questions = []\n",
    "for _ in range(CONST):\n",
    "    if random.choice([1, 0]):\n",
    "        user, tutor = random.choices(users, k=2)\n",
    "        questions.append(random_question(user, tutor))\n",
    "    else:\n",
    "        user = random.choice(users)\n",
    "        questions.append(random_question(user, None))\n",
    "for _ in range(CONST):\n",
    "    if random.choice([1, 0]):\n",
    "        if random.choice([1, 0]):\n",
    "            tutor = random.choice(users)\n",
    "            questions.append(random_question(myself, tutor))\n",
    "        else:\n",
    "            questions.append(random_question(myself, None))\n",
    "    else:\n",
    "        user = random.choice(users)\n",
    "        questions.append(random_question(user, myself))"
   ]
  },
  {
   "cell_type": "code",
   "execution_count": 49,
   "metadata": {
    "ExecuteTime": {
     "end_time": "2021-04-09T05:33:44.779155Z",
     "start_time": "2021-04-09T05:33:44.776286Z"
    }
   },
   "outputs": [],
   "source": [
    "def write_questions(table, questions):\n",
    "    s_q = sorted(questions, key = lambda x: x['created_at'])\n",
    "    with table.batch_writer() as batch:\n",
    "        for question in s_q:\n",
    "            batch.put_item(\n",
    "                question\n",
    "            )"
   ]
  },
  {
   "cell_type": "code",
   "execution_count": 50,
   "metadata": {
    "ExecuteTime": {
     "end_time": "2021-04-09T05:33:48.441089Z",
     "start_time": "2021-04-09T05:33:48.309083Z"
    }
   },
   "outputs": [],
   "source": [
    "write_questions(table, questions)"
   ]
  },
  {
   "cell_type": "code",
   "execution_count": null,
   "metadata": {},
   "outputs": [],
   "source": []
  }
 ],
 "metadata": {
  "kernelspec": {
   "display_name": "Python [conda env:scipy-ml]",
   "language": "python",
   "name": "conda-env-scipy-ml-py"
  },
  "language_info": {
   "codemirror_mode": {
    "name": "ipython",
    "version": 3
   },
   "file_extension": ".py",
   "mimetype": "text/x-python",
   "name": "python",
   "nbconvert_exporter": "python",
   "pygments_lexer": "ipython3",
   "version": "3.8.5"
  },
  "toc": {
   "base_numbering": 1,
   "nav_menu": {},
   "number_sections": true,
   "sideBar": true,
   "skip_h1_title": false,
   "title_cell": "Table of Contents",
   "title_sidebar": "Contents",
   "toc_cell": false,
   "toc_position": {},
   "toc_section_display": true,
   "toc_window_display": false
  }
 },
 "nbformat": 4,
 "nbformat_minor": 4
}
