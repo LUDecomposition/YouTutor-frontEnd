{
 "cells": [
  {
   "cell_type": "code",
   "execution_count": 44,
   "metadata": {
    "ExecuteTime": {
     "end_time": "2021-04-09T05:08:21.993395Z",
     "start_time": "2021-04-09T05:08:21.981135Z"
    }
   },
   "outputs": [],
   "source": [
    "import json\n",
    "import boto3\n",
    "from botocore.exceptions import ClientError\n",
    "\n",
    "user_table = 'user-profile'\n",
    "question_table = 'question'\n",
    "dynamodb = boto3.resource('dynamodb')\n",
    "table = dynamodb.Table(question_table)\n",
    "cognito = boto3.client('cognito-idp')\n",
    "\n"
   ]
  },
  {
   "cell_type": "code",
   "execution_count": 45,
   "metadata": {
    "ExecuteTime": {
     "end_time": "2021-04-09T05:08:22.580892Z",
     "start_time": "2021-04-09T05:08:22.575884Z"
    }
   },
   "outputs": [],
   "source": [
    "def lambda_handler(event, context):\n",
    "    # TODO implement\n",
    "#     access_token = event['headers']['access_token']\n",
    "#     print(access_token)\n",
    "#     try:\n",
    "#         resp = cognito.get_user(\n",
    "#             AccessToken=access_token,\n",
    "#         )\n",
    "#     except:\n",
    "#         return {\n",
    "#             'statusCode': 500,\n",
    "#             'body': json.dumps('Error in your login'),\n",
    "#             \"headers\": {\n",
    "#             'Content-Type':  'application/json',\n",
    "#             \"Access-Control-Allow-Origin\": \"*\",\n",
    "#             \"Access-Control-Allow-Headers\": \"*\"\n",
    "#             }\n",
    "#         }\n",
    "#     user = {i['Name']:i['Value'] for i in resp['UserAttributes']}\n",
    "#     user_id = user['email']\n",
    "    \n",
    "#     if 'user_id' not in event['headers']:\n",
    "#         return {\n",
    "#             'statusCode':500,\n",
    "#             'body':\"no user_id found.\",\n",
    "#             \"headers\": {\n",
    "#             'Content-Type':  'application/json',\n",
    "#             \"Access-Control-Allow-Origin\": \"*\",\n",
    "#             \"Access-Control-Allow-Headers\": \"*\"\n",
    "#             }\n",
    "#         }\n",
    "    \n",
    "    if not event['headers']['user_id']:\n",
    "        return {\n",
    "            'statusCode':400,\n",
    "            'body':\"user_id cannot be null\",\n",
    "            \"headers\": {\n",
    "            'Content-Type':  'application/json',\n",
    "            \"Access-Control-Allow-Origin\": \"*\",\n",
    "            \"Access-Control-Allow-Headers\": \"*\"\n",
    "            }\n",
    "        }\n",
    "    response = table.get_item(Key={'user_id': event['headers']['user_id']})\n",
    "    response = response.get(\"Item\")\n",
    "    if not response:\n",
    "        return {\n",
    "            'statusCode':400,\n",
    "            'body':\"Could not find user with user_id: \"+str(event['user_id']),\n",
    "            \"headers\": {\n",
    "            'Content-Type':  'application/json',\n",
    "            \"Access-Control-Allow-Origin\": \"*\",\n",
    "            \"Access-Control-Allow-Headers\": \"*\"\n",
    "            }\n",
    "        }\n",
    "    else:\n",
    "        return {\n",
    "            'statusCode': 200,\n",
    "            'body':response,\n",
    "            \"headers\": {\n",
    "            'Content-Type':  'application/json',\n",
    "            \"Access-Control-Allow-Origin\": \"*\",\n",
    "            \"Access-Control-Allow-Headers\": \"*\"\n",
    "            }\n",
    "        }"
   ]
  },
  {
   "cell_type": "code",
   "execution_count": 46,
   "metadata": {
    "ExecuteTime": {
     "end_time": "2021-04-09T05:08:23.621553Z",
     "start_time": "2021-04-09T05:08:23.619265Z"
    }
   },
   "outputs": [],
   "source": [
    "user_id = 'sy2938@columbia.edu'"
   ]
  },
  {
   "cell_type": "code",
   "execution_count": 47,
   "metadata": {
    "ExecuteTime": {
     "end_time": "2021-04-09T05:08:24.022659Z",
     "start_time": "2021-04-09T05:08:24.019968Z"
    }
   },
   "outputs": [],
   "source": [
    "from boto3.dynamodb.conditions import Key, Attr"
   ]
  },
  {
   "cell_type": "code",
   "execution_count": 58,
   "metadata": {
    "ExecuteTime": {
     "end_time": "2021-04-09T06:05:09.067673Z",
     "start_time": "2021-04-09T06:05:09.047154Z"
    }
   },
   "outputs": [
    {
     "data": {
      "text/plain": [
       "1618139340"
      ]
     },
     "execution_count": 58,
     "metadata": {},
     "output_type": "execute_result"
    }
   ],
   "source": [
    "int(table.query(\n",
    "    IndexName='user_id',\n",
    "    Limit = 10,\n",
    "     KeyConditionExpression=Key('user_id').eq(user_id)\n",
    ").get('Items')[0]['created_at'])"
   ]
  },
  {
   "cell_type": "code",
   "execution_count": 83,
   "metadata": {
    "ExecuteTime": {
     "end_time": "2021-04-09T06:30:49.772856Z",
     "start_time": "2021-04-09T06:30:49.670969Z"
    }
   },
   "outputs": [],
   "source": [
    "resp = table.scan(\n",
    "        Limit = 10\n",
    "        )"
   ]
  },
  {
   "cell_type": "code",
   "execution_count": 85,
   "metadata": {
    "ExecuteTime": {
     "end_time": "2021-04-09T06:31:15.922256Z",
     "start_time": "2021-04-09T06:31:15.920489Z"
    }
   },
   "outputs": [],
   "source": [
    "last_key = resp.get('LastEvaluatedKey')"
   ]
  },
  {
   "cell_type": "code",
   "execution_count": 60,
   "metadata": {
    "ExecuteTime": {
     "end_time": "2021-04-09T06:12:22.887773Z",
     "start_time": "2021-04-09T06:12:22.860440Z"
    }
   },
   "outputs": [],
   "source": [
    "tmp = table.query(\n",
    "    IndexName='user_id',\n",
    "    Limit = 10,\n",
    "     KeyConditionExpression=Key('user_id').eq(user_id)\n",
    ").get('Items')[0]"
   ]
  },
  {
   "cell_type": "code",
   "execution_count": 77,
   "metadata": {
    "ExecuteTime": {
     "end_time": "2021-04-09T06:17:17.526280Z",
     "start_time": "2021-04-09T06:17:17.497946Z"
    }
   },
   "outputs": [],
   "source": [
    "query = table.query(\n",
    "    IndexName='user_id',\n",
    "    Limit = 5,\n",
    "    KeyConditionExpression=Key('user_id').eq(user_id)\n",
    ")"
   ]
  },
  {
   "cell_type": "code",
   "execution_count": 79,
   "metadata": {
    "ExecuteTime": {
     "end_time": "2021-04-09T06:17:21.086004Z",
     "start_time": "2021-04-09T06:17:21.082686Z"
    }
   },
   "outputs": [
    {
     "data": {
      "text/plain": [
       "{'question_id': 'f854aa3a-98f7-11eb-9343-acde48001122',\n",
       " 'user_id': 'sy2938@columbia.edu',\n",
       " 'created_at': Decimal('1617750000')}"
      ]
     },
     "execution_count": 79,
     "metadata": {},
     "output_type": "execute_result"
    }
   ],
   "source": [
    "query.get('LastEvaluatedKey')"
   ]
  },
  {
   "cell_type": "code",
   "execution_count": 80,
   "metadata": {
    "ExecuteTime": {
     "end_time": "2021-04-09T06:18:13.466277Z",
     "start_time": "2021-04-09T06:18:13.464368Z"
    }
   },
   "outputs": [],
   "source": [
    "from decimal import Decimal"
   ]
  },
  {
   "cell_type": "code",
   "execution_count": 82,
   "metadata": {
    "ExecuteTime": {
     "end_time": "2021-04-09T06:18:39.863533Z",
     "start_time": "2021-04-09T06:18:39.861001Z"
    }
   },
   "outputs": [
    {
     "data": {
      "text/plain": [
       "Decimal('1')"
      ]
     },
     "execution_count": 82,
     "metadata": {},
     "output_type": "execute_result"
    }
   ],
   "source": [
    "Decimal(1)"
   ]
  },
  {
   "cell_type": "code",
   "execution_count": 86,
   "metadata": {
    "ExecuteTime": {
     "end_time": "2021-04-09T08:29:23.767936Z",
     "start_time": "2021-04-09T08:29:23.760646Z"
    }
   },
   "outputs": [],
   "source": [
    "event = {'resource': '/user/history', 'path': '/user/history', 'httpMethod': 'GET', 'headers': {'accept': '*/*', 'accept-encoding': 'gzip, deflate, br', 'accept-language': 'zh,en-US;q=0.9,en;q=0.8', 'access-control-allow-credentials': 'true', 'access-control-allow-headers': '*', 'access-control-allow-methods': 'GET', 'access-control-allow-origin': '*', 'access_token': 'eyJraWQiOiJFa3lrc1p4c0IzSDVtaDV0VkgzZ1M2VGlVNnVRXC9KbTNkZUd2U3F1WlNvcz0iLCJhbGciOiJSUzI1NiJ9.eyJzdWIiOiJkYWU5M2ZmZC05OWQ5LTRkYzMtOGI3NS1kMzAxMWVhZTc3MmMiLCJ0b2tlbl91c2UiOiJhY2Nlc3MiLCJzY29wZSI6ImF3cy5jb2duaXRvLnNpZ25pbi51c2VyLmFkbWluIHBob25lIG9wZW5pZCBwcm9maWxlIGVtYWlsIiwiYXV0aF90aW1lIjoxNjE3OTU2NzU0LCJpc3MiOiJodHRwczpcL1wvY29nbml0by1pZHAudXMtZWFzdC0xLmFtYXpvbmF3cy5jb21cL3VzLWVhc3QtMV9VSzZzTERENVUiLCJleHAiOjE2MTc5NjAzNTQsImlhdCI6MTYxNzk1Njc1NCwidmVyc2lvbiI6MiwianRpIjoiMGQwOGFhYTEtNWQ4Yy00MDdhLWI3MTAtMmVmYTE4ZGUyZjdhIiwiY2xpZW50X2lkIjoiMWQxbWIya3RmYXA5OGhnaWYxaWlnamI5ZmsiLCJ1c2VybmFtZSI6Ikdvb2dsZV8xMDg0MDE3NzIzNDMxNzEyODk0MzAifQ.t4ShihsVjgOEWtkXguCng0kbClA0di1HwOWijAzYhnZbyYBQl0WdGd1zUolkPmTf9yfkEcy5rexghn7Bw7pQTn12BD5848mutKQ0d3NspZ5fVZneVfcqXyxBqqNfFpQp5zLBSmyHNrJ6TNey3gSTqHc5e9_8pCUsCpWQ66drMhlstOCH9rYIjV-tjP6TCD3OBadCvzyvKGOfEP9gU388XrtncJFk-RlzoBw6ItJgbptLLJ6ZXvmMVtDSF_Khd3e6SbZYhFmIOVV-drs3WGPqhJ_M75NQzIz3MKzJQfucnSl5YCvr2kHepr1zi5NBQFAEm--E2fv4F2JkGW0b9GmUmw', 'content-type': 'application/json', 'Host': 'gr73qrcwnl.execute-api.us-east-1.amazonaws.com', 'is_ask': 'true', 'origin': 'http://localhost:3000', 'referer': 'http://localhost:3000/', 'sec-fetch-dest': 'empty', 'sec-fetch-mode': 'cors', 'sec-fetch-site': 'cross-site', 'sec-gpc': '1', 'token': 'eyJraWQiOiJ2cGJhcTR1R082R0RTYjRwUncwVEZnOXJDWjIyMittdkZHejFtRkRReVBJPSIsImFsZyI6IlJTMjU2In0.eyJhdF9oYXNoIjoiMFVkMExRVVAtcDAzY1NwWGZ4Y0dDZyIsInN1YiI6ImRhZTkzZmZkLTk5ZDktNGRjMy04Yjc1LWQzMDExZWFlNzcyYyIsImVtYWlsX3ZlcmlmaWVkIjpmYWxzZSwiaXNzIjoiaHR0cHM6XC9cL2NvZ25pdG8taWRwLnVzLWVhc3QtMS5hbWF6b25hd3MuY29tXC91cy1lYXN0LTFfVUs2c0xERDVVIiwiY29nbml0bzp1c2VybmFtZSI6Ikdvb2dsZV8xMDg0MDE3NzIzNDMxNzEyODk0MzAiLCJnaXZlbl9uYW1lIjoiSmFja2llIiwicGljdHVyZSI6Imh0dHBzOlwvXC9saDUuZ29vZ2xldXNlcmNvbnRlbnQuY29tXC8tVkZfY0t5Zm13OUVcL0FBQUFBQUFBQUFJXC9BQUFBQUFBQUFEOFwvQU1adXVjbHVNTzZWQS1HZG1LTU1sQWNhS24tR2VJZkZCd1wvczk2LWNcL3Bob3RvLmpwZyIsImF1ZCI6IjFkMW1iMmt0ZmFwOThoZ2lmMWlpZ2piOWZrIiwiaWRlbnRpdGllcyI6W3sidXNlcklkIjoiMTA4NDAxNzcyMzQzMTcxMjg5NDMwIiwicHJvdmlkZXJOYW1lIjoiR29vZ2xlIiwicHJvdmlkZXJUeXBlIjoiR29vZ2xlIiwiaXNzdWVyIjpudWxsLCJwcmltYXJ5IjoidHJ1ZSIsImRhdGVDcmVhdGVkIjoiMTYxNzA4NDE3NzYxNSJ9XSwidG9rZW5fdXNlIjoiaWQiLCJhdXRoX3RpbWUiOjE2MTc5NTY3NTQsImV4cCI6MTYxNzk2MDM1NCwiaWF0IjoxNjE3OTU2NzU0LCJmYW1pbHlfbmFtZSI6Ill1YW4iLCJlbWFpbCI6InN5MjkzOEBjb2x1bWJpYS5lZHUifQ.DR_thleo2E7OvIAG1bXHxEwjzqmPuIvVhfR73exLN20U9PljJJ9kvjfiZY82-8AMTKnJHpAO-d0KkTPJWdEv9ZABJVHiLTsrUnUohwenQbD59FmjJ5VL1fWBfLGYb9CvQsQihI5JtU0MwyGTOjE8vy0YgRBfob-no-HZK0zg9Wm5qgpJHdiWJzbKd19kjCICCVUzKC64888KX650Fy7TINh1o8nYmovFevD27lfRRGDw1oWschT4F6koslisbx2eGAAYZOwl3DNh6iAhbbdmJ_cUbP9sCCPWnMYKRun-bnb5sGUxvlL1Z6VfvyN39qS0jcffm8Pup4hpeCpKrDhfxw', 'User-Agent': 'Mozilla/5.0 (Macintosh; Intel Mac OS X 11_2_3) AppleWebKit/537.36 (KHTML, like Gecko) Chrome/89.0.4389.114 Safari/537.36', 'X-Amzn-Trace-Id': 'Root=1-60700f96-0ed0394d52ef733502b77e98', 'X-Forwarded-For': '100.33.115.103', 'X-Forwarded-Port': '443', 'X-Forwarded-Proto': 'https'}, 'multiValueHeaders': {'accept': ['*/*'], 'accept-encoding': ['gzip, deflate, br'], 'accept-language': ['zh,en-US;q=0.9,en;q=0.8'], 'access-control-allow-credentials': ['true'], 'access-control-allow-headers': ['*'], 'access-control-allow-methods': ['GET'], 'access-control-allow-origin': ['*'], 'access_token': ['eyJraWQiOiJFa3lrc1p4c0IzSDVtaDV0VkgzZ1M2VGlVNnVRXC9KbTNkZUd2U3F1WlNvcz0iLCJhbGciOiJSUzI1NiJ9.eyJzdWIiOiJkYWU5M2ZmZC05OWQ5LTRkYzMtOGI3NS1kMzAxMWVhZTc3MmMiLCJ0b2tlbl91c2UiOiJhY2Nlc3MiLCJzY29wZSI6ImF3cy5jb2duaXRvLnNpZ25pbi51c2VyLmFkbWluIHBob25lIG9wZW5pZCBwcm9maWxlIGVtYWlsIiwiYXV0aF90aW1lIjoxNjE3OTU2NzU0LCJpc3MiOiJodHRwczpcL1wvY29nbml0by1pZHAudXMtZWFzdC0xLmFtYXpvbmF3cy5jb21cL3VzLWVhc3QtMV9VSzZzTERENVUiLCJleHAiOjE2MTc5NjAzNTQsImlhdCI6MTYxNzk1Njc1NCwidmVyc2lvbiI6MiwianRpIjoiMGQwOGFhYTEtNWQ4Yy00MDdhLWI3MTAtMmVmYTE4ZGUyZjdhIiwiY2xpZW50X2lkIjoiMWQxbWIya3RmYXA5OGhnaWYxaWlnamI5ZmsiLCJ1c2VybmFtZSI6Ikdvb2dsZV8xMDg0MDE3NzIzNDMxNzEyODk0MzAifQ.t4ShihsVjgOEWtkXguCng0kbClA0di1HwOWijAzYhnZbyYBQl0WdGd1zUolkPmTf9yfkEcy5rexghn7Bw7pQTn12BD5848mutKQ0d3NspZ5fVZneVfcqXyxBqqNfFpQp5zLBSmyHNrJ6TNey3gSTqHc5e9_8pCUsCpWQ66drMhlstOCH9rYIjV-tjP6TCD3OBadCvzyvKGOfEP9gU388XrtncJFk-RlzoBw6ItJgbptLLJ6ZXvmMVtDSF_Khd3e6SbZYhFmIOVV-drs3WGPqhJ_M75NQzIz3MKzJQfucnSl5YCvr2kHepr1zi5NBQFAEm--E2fv4F2JkGW0b9GmUmw'], 'content-type': ['application/json'], 'Host': ['gr73qrcwnl.execute-api.us-east-1.amazonaws.com'], 'is_ask': ['true'], 'origin': ['http://localhost:3000'], 'referer': ['http://localhost:3000/'], 'sec-fetch-dest': ['empty'], 'sec-fetch-mode': ['cors'], 'sec-fetch-site': ['cross-site'], 'sec-gpc': ['1'], 'token': ['eyJraWQiOiJ2cGJhcTR1R082R0RTYjRwUncwVEZnOXJDWjIyMittdkZHejFtRkRReVBJPSIsImFsZyI6IlJTMjU2In0.eyJhdF9oYXNoIjoiMFVkMExRVVAtcDAzY1NwWGZ4Y0dDZyIsInN1YiI6ImRhZTkzZmZkLTk5ZDktNGRjMy04Yjc1LWQzMDExZWFlNzcyYyIsImVtYWlsX3ZlcmlmaWVkIjpmYWxzZSwiaXNzIjoiaHR0cHM6XC9cL2NvZ25pdG8taWRwLnVzLWVhc3QtMS5hbWF6b25hd3MuY29tXC91cy1lYXN0LTFfVUs2c0xERDVVIiwiY29nbml0bzp1c2VybmFtZSI6Ikdvb2dsZV8xMDg0MDE3NzIzNDMxNzEyODk0MzAiLCJnaXZlbl9uYW1lIjoiSmFja2llIiwicGljdHVyZSI6Imh0dHBzOlwvXC9saDUuZ29vZ2xldXNlcmNvbnRlbnQuY29tXC8tVkZfY0t5Zm13OUVcL0FBQUFBQUFBQUFJXC9BQUFBQUFBQUFEOFwvQU1adXVjbHVNTzZWQS1HZG1LTU1sQWNhS24tR2VJZkZCd1wvczk2LWNcL3Bob3RvLmpwZyIsImF1ZCI6IjFkMW1iMmt0ZmFwOThoZ2lmMWlpZ2piOWZrIiwiaWRlbnRpdGllcyI6W3sidXNlcklkIjoiMTA4NDAxNzcyMzQzMTcxMjg5NDMwIiwicHJvdmlkZXJOYW1lIjoiR29vZ2xlIiwicHJvdmlkZXJUeXBlIjoiR29vZ2xlIiwiaXNzdWVyIjpudWxsLCJwcmltYXJ5IjoidHJ1ZSIsImRhdGVDcmVhdGVkIjoiMTYxNzA4NDE3NzYxNSJ9XSwidG9rZW5fdXNlIjoiaWQiLCJhdXRoX3RpbWUiOjE2MTc5NTY3NTQsImV4cCI6MTYxNzk2MDM1NCwiaWF0IjoxNjE3OTU2NzU0LCJmYW1pbHlfbmFtZSI6Ill1YW4iLCJlbWFpbCI6InN5MjkzOEBjb2x1bWJpYS5lZHUifQ.DR_thleo2E7OvIAG1bXHxEwjzqmPuIvVhfR73exLN20U9PljJJ9kvjfiZY82-8AMTKnJHpAO-d0KkTPJWdEv9ZABJVHiLTsrUnUohwenQbD59FmjJ5VL1fWBfLGYb9CvQsQihI5JtU0MwyGTOjE8vy0YgRBfob-no-HZK0zg9Wm5qgpJHdiWJzbKd19kjCICCVUzKC64888KX650Fy7TINh1o8nYmovFevD27lfRRGDw1oWschT4F6koslisbx2eGAAYZOwl3DNh6iAhbbdmJ_cUbP9sCCPWnMYKRun-bnb5sGUxvlL1Z6VfvyN39qS0jcffm8Pup4hpeCpKrDhfxw'], 'User-Agent': ['Mozilla/5.0 (Macintosh; Intel Mac OS X 11_2_3) AppleWebKit/537.36 (KHTML, like Gecko) Chrome/89.0.4389.114 Safari/537.36'], 'X-Amzn-Trace-Id': ['Root=1-60700f96-0ed0394d52ef733502b77e98'], 'X-Forwarded-For': ['100.33.115.103'], 'X-Forwarded-Port': ['443'], 'X-Forwarded-Proto': ['https']}, 'queryStringParameters': None, 'multiValueQueryStringParameters': None, 'pathParameters': None, 'stageVariables': None, 'requestContext': {'resourceId': 'tbw6vx', 'resourcePath': '/user/history', 'httpMethod': 'GET', 'extendedRequestId': 'dgdfhED8oAMFetg=', 'requestTime': '09/Apr/2021:08:25:58 +0000', 'path': '/v1/user/history', 'accountId': '387645926509', 'protocol': 'HTTP/1.1', 'stage': 'v1', 'domainPrefix': 'gr73qrcwnl', 'requestTimeEpoch': 1617956758494, 'requestId': 'a1620ec2-b052-4317-bd6b-6142f9ce763f', 'identity': {'cognitoIdentityPoolId': None, 'accountId': None, 'cognitoIdentityId': None, 'caller': None, 'sourceIp': '100.33.115.103', 'principalOrgId': None, 'accessKey': None, 'cognitoAuthenticationType': None, 'cognitoAuthenticationProvider': None, 'userArn': None, 'userAgent': 'Mozilla/5.0 (Macintosh; Intel Mac OS X 11_2_3) AppleWebKit/537.36 (KHTML, like Gecko) Chrome/89.0.4389.114 Safari/537.36', 'user': None}, 'domainName': 'gr73qrcwnl.execute-api.us-east-1.amazonaws.com', 'apiId': 'gr73qrcwnl'}, 'body': None, 'isBase64Encoded': False}\n"
   ]
  },
  {
   "cell_type": "code",
   "execution_count": 93,
   "metadata": {
    "ExecuteTime": {
     "end_time": "2021-04-09T08:40:46.857562Z",
     "start_time": "2021-04-09T08:40:46.832559Z"
    }
   },
   "outputs": [],
   "source": [
    "import json\n",
    "import boto3\n",
    "from decimal import Decimal\n",
    "from boto3.dynamodb.conditions import Key, Attr, And, Not, Or\n",
    "dynamodb = boto3.resource('dynamodb')\n",
    "user_table = 'user-profile'\n",
    "question_table = dynamodb.Table('question')\n",
    "cognito = boto3.client('cognito-idp')\n",
    "def lambda_handler(event, context):\n",
    "    is_ask = event['headers']['is_ask']\n",
    "    last_key = None\n",
    "    access_token = event['headers']['access_token']\n",
    "    try:\n",
    "        resp = cognito.get_user(\n",
    "            AccessToken=access_token,\n",
    "        )\n",
    "    except:\n",
    "        return {\n",
    "            'statusCode': 500,\n",
    "            'body': json.dumps('Error in your login'),\n",
    "            \"headers\": {\n",
    "            'Content-Type':  'application/json',\n",
    "            \"Access-Control-Allow-Origin\": \"*\",\n",
    "            \"Access-Control-Allow-Headers\": \"*\"\n",
    "            }\n",
    "        }\n",
    "    user = {i['Name']:i['Value'] for i in resp['UserAttributes']}\n",
    "    user_id = user['email']\n",
    "\n",
    "\n",
    "    if  event['headers']['last_key'] != 'null':\n",
    "        last_key = json.loads(event['headers']['last_key'])\n",
    "        last_key['created_at'] = Decimal(last_key['created_at'])\n",
    "    \n",
    "    \n",
    "    if is_ask == 'true':\n",
    "        if last_key:\n",
    "            query = question_table.query(\n",
    "                    Limit = 10,\n",
    "                    ExclusiveStartKey=last_key,\n",
    "                     IndexName=\"user_id\",\n",
    "                    KeyConditionExpression=Key('user_id').eq(user_id)\n",
    "                )\n",
    "        else:\n",
    "            query = question_table.query(\n",
    "                    Limit = 10,\n",
    "                     IndexName=\"user_id\",\n",
    "                    KeyConditionExpression=Key('user_id').eq(user_id)\n",
    "                )\n",
    "    else:\n",
    "        if last_key:\n",
    "            query = question_table.query(\n",
    "                    Limit = 10,\n",
    "                    ExclusiveStartKey=last_key,\n",
    "                     IndexName=\"tutor_id\",\n",
    "                    KeyConditionExpression=Key('tutor_id').eq(user_id)\n",
    "                )\n",
    "        else:\n",
    "            query = question_table.query(\n",
    "                    Limit = 10,\n",
    "                     IndexName=\"tutor_id\",\n",
    "                    KeyConditionExpression=Key('tutor_id').eq(user_id)\n",
    "                )\n",
    "    data = query.get('Items')\n",
    "    if not data:\n",
    "        return {\n",
    "            'statusCode': 200,\n",
    "            'body': json.dumps({\n",
    "                        'data': []\n",
    "                    }),\n",
    "            \"headers\": {\n",
    "            'Content-Type':  'application/json',\n",
    "            \"Access-Control-Allow-Origin\": \"*\",\n",
    "            \"Access-Control-Allow-Headers\": \"*\"\n",
    "            }\n",
    "        }\n",
    "    \n",
    "    if len(data)!=0:\n",
    "        user_ids = [i['user_id']for i in query['Items']] + [i['tutor_id']for i in query['Items'] if i['tutor_id'] !='Null']\n",
    "        result = {i:{} for i in set(user_ids)}\n",
    "        response = dynamodb.batch_get_item(\n",
    "            RequestItems={\n",
    "                user_table:{\n",
    "                    \"Keys\": [{'user_id': user_id} for user_id in set(user_ids)],\n",
    "                    'AttributesToGet': ['picture', 'first_name', 'last_name']\n",
    "                }\n",
    "            }\n",
    "        )['Responses'][user_table]\n",
    "        for email, res in zip(result, response):\n",
    "            result[email] = res\n",
    "    for d in data:\n",
    "        d['created_at'] = int(d['created_at'])\n",
    "        d['user_picture'] = result[d['user_id']]['picture']\n",
    "        d['user'] = result[d['user_id']]['first_name'] + ' ' + result[d['user_id']]['last_name']\n",
    "        d['status'] = d['question_status']\n",
    "        if d['tutor_id'] != 'Null':\n",
    "            d['tutor_picture'] = result[d['tutor_id']]['picture']\n",
    "            d['tutor'] = result[d['tutor_id']]['first_name'] + ' ' + result[d['tutor_id']]['last_name']\n",
    "        else:\n",
    "            d['tutor_id'] = None\n",
    "            d['tutor_picture'] = None\n",
    "            d['tutor'] = None\n",
    "        d.pop('question_status', None)\n",
    "        if 'tags' not in d:\n",
    "            d['tags'] = []\n",
    "\n",
    "    if 'LastEvaluatedKey' in query:\n",
    "        last_key = query['LastEvaluatedKey']\n",
    "        last_key['created_at'] = int(last_key['created_at'])\n",
    "        body = {\n",
    "            'data': data,\n",
    "            'LastEvaluatedKey': last_key\n",
    "        }\n",
    "    else:\n",
    "        body = {\n",
    "            'data': data\n",
    "        }\n",
    "    return {\n",
    "        'statusCode': 200,\n",
    "        'body': json.dumps(body),\n",
    "        \"headers\": {\n",
    "        'Content-Type':  'application/json',\n",
    "        \"Access-Control-Allow-Origin\": \"*\",\n",
    "        \"Access-Control-Allow-Headers\": \"*\"\n",
    "        }\n",
    "    }"
   ]
  },
  {
   "cell_type": "code",
   "execution_count": 96,
   "metadata": {
    "ExecuteTime": {
     "end_time": "2021-04-09T08:40:57.965025Z",
     "start_time": "2021-04-09T08:40:57.962619Z"
    }
   },
   "outputs": [],
   "source": [
    "event['headers']['last_key'] = 'null'"
   ]
  },
  {
   "cell_type": "code",
   "execution_count": 4,
   "metadata": {
    "ExecuteTime": {
     "end_time": "2021-04-11T06:04:57.506702Z",
     "start_time": "2021-04-11T06:04:57.439099Z"
    }
   },
   "outputs": [],
   "source": [
    "import boto3\n",
    "from boto3.dynamodb.conditions import Key, Attr, And, Not\n",
    "dynamodb = boto3.resource('dynamodb')\n",
    "question_table = dynamodb.Table('question')\n",
    "user_table = 'user-profile'"
   ]
  },
  {
   "cell_type": "code",
   "execution_count": 9,
   "metadata": {
    "ExecuteTime": {
     "end_time": "2021-04-11T06:06:31.070884Z",
     "start_time": "2021-04-11T06:06:30.927626Z"
    }
   },
   "outputs": [],
   "source": [
    "resp = question_table.scan(\n",
    "Limit = 10,\n",
    "FilterExpression=And(Not(Attr('user_id').eq('sy2938@columbia.edu')), Attr('tutor_id').eq('Null'))\n",
    ")"
   ]
  },
  {
   "cell_type": "code",
   "execution_count": 10,
   "metadata": {
    "ExecuteTime": {
     "end_time": "2021-04-11T06:06:31.514914Z",
     "start_time": "2021-04-11T06:06:31.511154Z"
    }
   },
   "outputs": [
    {
     "data": {
      "text/plain": [
       "{'Items': [{'user_id': 'emily00@castillo-sullivan.com',\n",
       "   'detail': 'I have question regarding to What is seize wireless eyeballs, can anyone help?',\n",
       "   'created_at': Decimal('1617365700'),\n",
       "   'question_id': '6dc86e68-9908-11eb-8788-acde48001122',\n",
       "   'question_status': 'canceled',\n",
       "   'start_time': 'Null',\n",
       "   'tutor_id': 'Null',\n",
       "   'end_time': 'Null',\n",
       "   'tags': [],\n",
       "   'title': 'What is seize wireless eyeballs'},\n",
       "  {'user_id': 'robin27@baird.net',\n",
       "   'detail': 'I have question regarding to What is re-intermediate holistic platforms, can anyone help?',\n",
       "   'created_at': Decimal('1618366560'),\n",
       "   'question_id': '6dc8e320-9908-11eb-8788-acde48001122',\n",
       "   'question_status': 'posted',\n",
       "   'start_time': 'Null',\n",
       "   'tutor_id': 'Null',\n",
       "   'end_time': 'Null',\n",
       "   'tags': [],\n",
       "   'title': 'What is re-intermediate holistic platforms'}],\n",
       " 'Count': 2,\n",
       " 'ScannedCount': 10,\n",
       " 'LastEvaluatedKey': {'question_id': '6dc87138-9908-11eb-8788-acde48001122',\n",
       "  'created_at': Decimal('1619506800')},\n",
       " 'ResponseMetadata': {'RequestId': 'GOTHTN8451R7SITE1IDJUUJI3JVV4KQNSO5AEMVJF66Q9ASUAAJG',\n",
       "  'HTTPStatusCode': 200,\n",
       "  'HTTPHeaders': {'server': 'Server',\n",
       "   'date': 'Sun, 11 Apr 2021 06:06:30 GMT',\n",
       "   'content-type': 'application/x-amz-json-1.0',\n",
       "   'content-length': '979',\n",
       "   'connection': 'keep-alive',\n",
       "   'x-amzn-requestid': 'GOTHTN8451R7SITE1IDJUUJI3JVV4KQNSO5AEMVJF66Q9ASUAAJG',\n",
       "   'x-amz-crc32': '2941638951'},\n",
       "  'RetryAttempts': 0}}"
      ]
     },
     "execution_count": 10,
     "metadata": {},
     "output_type": "execute_result"
    }
   ],
   "source": [
    "resp"
   ]
  },
  {
   "cell_type": "code",
   "execution_count": null,
   "metadata": {},
   "outputs": [],
   "source": []
  }
 ],
 "metadata": {
  "kernelspec": {
   "display_name": "Python 3",
   "language": "python",
   "name": "python3"
  },
  "language_info": {
   "codemirror_mode": {
    "name": "ipython",
    "version": 3
   },
   "file_extension": ".py",
   "mimetype": "text/x-python",
   "name": "python",
   "nbconvert_exporter": "python",
   "pygments_lexer": "ipython3",
   "version": "3.8.5"
  },
  "toc": {
   "base_numbering": 1,
   "nav_menu": {},
   "number_sections": true,
   "sideBar": true,
   "skip_h1_title": false,
   "title_cell": "Table of Contents",
   "title_sidebar": "Contents",
   "toc_cell": false,
   "toc_position": {},
   "toc_section_display": true,
   "toc_window_display": false
  }
 },
 "nbformat": 4,
 "nbformat_minor": 4
}
